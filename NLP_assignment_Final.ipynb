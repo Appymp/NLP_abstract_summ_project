{
 "cells": [
  {
   "cell_type": "markdown",
   "metadata": {
    "id": "z16jr8WMjmYs"
   },
   "source": [
    "# NLP_Project_Text_Summarization\n",
    "Project by Urani JEAN-LOUIS and Appanna MACHIMANDA"
   ]
  },
  {
   "cell_type": "markdown",
   "metadata": {
    "id": "XCa_TJhSvkeO"
   },
   "source": [
    "### Importing the dataset\n",
    "The PubAg dataset has to be uploaded into Google Drive and the path can be pasted as '/content/gdrive/My Drive/Colab Notebooks/PubAg.json'. Where 'My Drive' is the root folder of your google drive."
   ]
  },
  {
   "cell_type": "code",
   "execution_count": null,
   "metadata": {
    "colab": {
     "base_uri": "https://localhost:8080/"
    },
    "executionInfo": {
     "elapsed": 798,
     "status": "ok",
     "timestamp": 1621189961031,
     "user": {
      "displayName": "Appanna M P",
      "photoUrl": "",
      "userId": "15798677300444359000"
     },
     "user_tz": -120
    },
    "id": "JUSk96cM0GYV",
    "outputId": "84ca28fd-1a40-4d5e-998e-3239e0b7fce6"
   },
   "outputs": [
    {
     "name": "stdout",
     "output_type": "stream",
     "text": [
      "Drive already mounted at /content/gdrive; to attempt to forcibly remount, call drive.mount(\"/content/gdrive\", force_remount=True).\n"
     ]
    }
   ],
   "source": [
    "from google.colab import drive\n",
    "drive.mount('/content/gdrive')"
   ]
  },
  {
   "cell_type": "code",
   "execution_count": null,
   "metadata": {
    "id": "tKyi3ypV1IIW"
   },
   "outputs": [],
   "source": [
    "import json\n",
    "import numpy as np\n",
    "import pandas as pd\n",
    "import matplotlib.pyplot as plt\n",
    "\n",
    "import os"
   ]
  },
  {
   "cell_type": "code",
   "execution_count": null,
   "metadata": {
    "id": "zMjZFEopxIYy"
   },
   "outputs": [],
   "source": [
    "with open('/content/gdrive/My Drive/Colab Notebooks/PubAg.json', 'r') as f:\n",
    "  abstract_dict = json.load(f)"
   ]
  },
  {
   "cell_type": "code",
   "execution_count": null,
   "metadata": {
    "id": "60sybJP_v2pY"
   },
   "outputs": [],
   "source": [
    "abstract_df = pd.DataFrame.from_dict(abstract_dict)\n",
    "abstract_df.head()\n",
    "#len(abstract_df['abstracts']) # 83,799 abstracts\n",
    "\n",
    "#Use a small subsection for testing algo:\n",
    "sliced_abs=abstract_df.head(100)\n",
    "#sliced_abs\n"
   ]
  },
  {
   "cell_type": "code",
   "execution_count": null,
   "metadata": {
    "colab": {
     "base_uri": "https://localhost:8080/",
     "height": 295
    },
    "executionInfo": {
     "elapsed": 7197,
     "status": "ok",
     "timestamp": 1621189967523,
     "user": {
      "displayName": "Appanna M P",
      "photoUrl": "",
      "userId": "15798677300444359000"
     },
     "user_tz": -120
    },
    "id": "AXf_2tFaTuoq",
    "outputId": "ee2990c4-55ec-43ea-d115-a48afdf0a774"
   },
   "outputs": [
    {
     "data": {
      "image/png": "[encoded data removed]",
      "text/plain": [
       "<Figure size 432x288 with 1 Axes>"
      ]
     },
     "metadata": {
      "needs_background": "light",
      "tags": []
     },
     "output_type": "display_data"
    }
   ],
   "source": [
    "#Distribution of words\n",
    "abstracts_word_count = []\n",
    "for i in abstract_df['abstracts']:\n",
    "    abstracts_word_count.append(len(i.split()))\n",
    "\n",
    "length_df = pd.DataFrame({'Abstract_word_count': abstracts_word_count})\n",
    "length_df.hist(bins=15)\n",
    "plt.xlabel('words')\n",
    "plt.ylabel('abstracts')\n",
    "plt.savefig(\"PubAg_dist.jpg\") # save as png\n",
    "plt.show()"
   ]
  },
  {
   "cell_type": "code",
   "execution_count": null,
   "metadata": {
    "colab": {
     "base_uri": "https://localhost:8080/",
     "height": 297
    },
    "executionInfo": {
     "elapsed": 7178,
     "status": "ok",
     "timestamp": 1621189967528,
     "user": {
      "displayName": "Appanna M P",
      "photoUrl": "",
      "userId": "15798677300444359000"
     },
     "user_tz": -120
    },
    "id": "YuXb9LZFUSyl",
    "outputId": "ab38baf3-f71b-4a28-d31d-6ba2331eb0c1"
   },
   "outputs": [
    {
     "data": {
      "text/html": [
       "<div>\n",
       "<style scoped>\n",
       "    .dataframe tbody tr th:only-of-type {\n",
       "        vertical-align: middle;\n",
       "    }\n",
       "\n",
       "    .dataframe tbody tr th {\n",
       "        vertical-align: top;\n",
       "    }\n",
       "\n",
       "    .dataframe thead th {\n",
       "        text-align: right;\n",
       "    }\n",
       "</style>\n",
       "<table border=\"1\" class=\"dataframe\">\n",
       "  <thead>\n",
       "    <tr style=\"text-align: right;\">\n",
       "      <th></th>\n",
       "      <th>Abstract_word_count</th>\n",
       "    </tr>\n",
       "  </thead>\n",
       "  <tbody>\n",
       "    <tr>\n",
       "      <th>count</th>\n",
       "      <td>83799.000000</td>\n",
       "    </tr>\n",
       "    <tr>\n",
       "      <th>mean</th>\n",
       "      <td>228.174083</td>\n",
       "    </tr>\n",
       "    <tr>\n",
       "      <th>std</th>\n",
       "      <td>76.789850</td>\n",
       "    </tr>\n",
       "    <tr>\n",
       "      <th>min</th>\n",
       "      <td>10.000000</td>\n",
       "    </tr>\n",
       "    <tr>\n",
       "      <th>25%</th>\n",
       "      <td>178.000000</td>\n",
       "    </tr>\n",
       "    <tr>\n",
       "      <th>50%</th>\n",
       "      <td>222.000000</td>\n",
       "    </tr>\n",
       "    <tr>\n",
       "      <th>75%</th>\n",
       "      <td>267.000000</td>\n",
       "    </tr>\n",
       "    <tr>\n",
       "      <th>max</th>\n",
       "      <td>2025.000000</td>\n",
       "    </tr>\n",
       "  </tbody>\n",
       "</table>\n",
       "</div>"
      ],
      "text/plain": [
       "       Abstract_word_count\n",
       "count         83799.000000\n",
       "mean            228.174083\n",
       "std              76.789850\n",
       "min              10.000000\n",
       "25%             178.000000\n",
       "50%             222.000000\n",
       "75%             267.000000\n",
       "max            2025.000000"
      ]
     },
     "execution_count": 9,
     "metadata": {
      "tags": []
     },
     "output_type": "execute_result"
    }
   ],
   "source": [
    "length_df.describe() #Most of the abstracts have less than 189 words"
   ]
  },
  {
   "cell_type": "code",
   "execution_count": null,
   "metadata": {
    "colab": {
     "base_uri": "https://localhost:8080/"
    },
    "executionInfo": {
     "elapsed": 44354,
     "status": "ok",
     "timestamp": 1621190004719,
     "user": {
      "displayName": "Appanna M P",
      "photoUrl": "",
      "userId": "15798677300444359000"
     },
     "user_tz": -120
    },
    "id": "EcVjvNpHT0Mu",
    "outputId": "3c4b7db8-fa92-4d77-e900-fad8f6c50afe"
   },
   "outputs": [
    {
     "name": "stdout",
     "output_type": "stream",
     "text": [
      "[nltk_data] Downloading package punkt to /root/nltk_data...\n",
      "[nltk_data]   Package punkt is already up-to-date!\n",
      "CPU times: user 36.7 s, sys: 386 ms, total: 37 s\n",
      "Wall time: 37.1 s\n"
     ]
    }
   ],
   "source": [
    "%%time\n",
    "#Tokenize abstract into its constituent sentences\n",
    "import nltk\n",
    "nltk.download('punkt')\n",
    "\n",
    "from nltk.tokenize import sent_tokenize\n",
    "sentences = []\n",
    "for s in abstract_df['abstracts']: #for each abstract in the column\n",
    "  sentences.append(sent_tokenize(s))"
   ]
  },
  {
   "cell_type": "code",
   "execution_count": null,
   "metadata": {
    "colab": {
     "base_uri": "https://localhost:8080/",
     "height": 295
    },
    "executionInfo": {
     "elapsed": 71095,
     "status": "ok",
     "timestamp": 1621190031474,
     "user": {
      "displayName": "Appanna M P",
      "photoUrl": "",
      "userId": "15798677300444359000"
     },
     "user_tz": -120
    },
    "id": "TGl3sVw4T1CQ",
    "outputId": "186363e5-7140-438d-e67a-a458e1c3dd4a"
   },
   "outputs": [
    {
     "data": {
      "image/png": "[encoded data removed]",
      "text/plain": [
       "<Figure size 432x288 with 1 Axes>"
      ]
     },
     "metadata": {
      "needs_background": "light",
      "tags": []
     },
     "output_type": "display_data"
    }
   ],
   "source": [
    "len(sentences[0])#number of sentences in abstract 0.\n",
    "\n",
    "##Distribution of sentences\n",
    "abstracts_sent_count = []\n",
    "abstract_df['num_sents']=\"\"\n",
    "for ind,i in enumerate(sentences):\n",
    "    abstracts_sent_count.append(len(i))\n",
    "    abstract_df['num_sents'][ind]=len(i) #Create new column with number of sentences\n",
    "abstract_df['num_sents'] = pd.to_numeric(abstract_df['num_sents']) #conver the column to numeric\n",
    "\n",
    "length_sent = pd.DataFrame({'Abstract_sentence_count': abstracts_sent_count})\n",
    "length_sent.hist(bins=15)\n",
    "plt.xlabel('sentences')\n",
    "plt.ylabel('abstracts')\n",
    "plt.savefig(\"PubAg_dist.jpg\") # save as png\n",
    "plt.show()"
   ]
  },
  {
   "cell_type": "code",
   "execution_count": null,
   "metadata": {
    "colab": {
     "base_uri": "https://localhost:8080/",
     "height": 297
    },
    "executionInfo": {
     "elapsed": 71071,
     "status": "ok",
     "timestamp": 1621190031475,
     "user": {
      "displayName": "Appanna M P",
      "photoUrl": "",
      "userId": "15798677300444359000"
     },
     "user_tz": -120
    },
    "id": "woTzMXYLUWkK",
    "outputId": "48f72cab-1d64-4e72-8054-ecf3cd79c1da"
   },
   "outputs": [
    {
     "data": {
      "text/html": [
       "<div>\n",
       "<style scoped>\n",
       "    .dataframe tbody tr th:only-of-type {\n",
       "        vertical-align: middle;\n",
       "    }\n",
       "\n",
       "    .dataframe tbody tr th {\n",
       "        vertical-align: top;\n",
       "    }\n",
       "\n",
       "    .dataframe thead th {\n",
       "        text-align: right;\n",
       "    }\n",
       "</style>\n",
       "<table border=\"1\" class=\"dataframe\">\n",
       "  <thead>\n",
       "    <tr style=\"text-align: right;\">\n",
       "      <th></th>\n",
       "      <th>Abstract_sentence_count</th>\n",
       "    </tr>\n",
       "  </thead>\n",
       "  <tbody>\n",
       "    <tr>\n",
       "      <th>count</th>\n",
       "      <td>83799.000000</td>\n",
       "    </tr>\n",
       "    <tr>\n",
       "      <th>mean</th>\n",
       "      <td>9.347797</td>\n",
       "    </tr>\n",
       "    <tr>\n",
       "      <th>std</th>\n",
       "      <td>3.409347</td>\n",
       "    </tr>\n",
       "    <tr>\n",
       "      <th>min</th>\n",
       "      <td>1.000000</td>\n",
       "    </tr>\n",
       "    <tr>\n",
       "      <th>25%</th>\n",
       "      <td>7.000000</td>\n",
       "    </tr>\n",
       "    <tr>\n",
       "      <th>50%</th>\n",
       "      <td>9.000000</td>\n",
       "    </tr>\n",
       "    <tr>\n",
       "      <th>75%</th>\n",
       "      <td>11.000000</td>\n",
       "    </tr>\n",
       "    <tr>\n",
       "      <th>max</th>\n",
       "      <td>76.000000</td>\n",
       "    </tr>\n",
       "  </tbody>\n",
       "</table>\n",
       "</div>"
      ],
      "text/plain": [
       "       Abstract_sentence_count\n",
       "count             83799.000000\n",
       "mean                  9.347797\n",
       "std                   3.409347\n",
       "min                   1.000000\n",
       "25%                   7.000000\n",
       "50%                   9.000000\n",
       "75%                  11.000000\n",
       "max                  76.000000"
      ]
     },
     "execution_count": 12,
     "metadata": {
      "tags": []
     },
     "output_type": "execute_result"
    }
   ],
   "source": [
    "length_sent.describe() #Most of the abstracts have less than 189 words"
   ]
  },
  {
   "cell_type": "code",
   "execution_count": null,
   "metadata": {
    "colab": {
     "base_uri": "https://localhost:8080/"
    },
    "executionInfo": {
     "elapsed": 73440,
     "status": "ok",
     "timestamp": 1621190033864,
     "user": {
      "displayName": "Appanna M P",
      "photoUrl": "",
      "userId": "15798677300444359000"
     },
     "user_tz": -120
    },
    "id": "KW3EGUGGUcfb",
    "outputId": "981279d1-4103-47e5-ac98-c887ec20a47e"
   },
   "outputs": [
    {
     "data": {
      "text/plain": [
       "83799"
      ]
     },
     "execution_count": 13,
     "metadata": {
      "tags": []
     },
     "output_type": "execute_result"
    }
   ],
   "source": [
    "#Create column with word length\n",
    "abstract_df['num_words']=abstract_df['abstracts'].apply( lambda x:len(x.split()))\n",
    "\n",
    "#Create column with sentence length\n",
    "\n",
    "\n",
    "#Max length of sentence in the dataset\n",
    "abstract_df['abstracts'].apply( lambda x:len(x.split())).max()\n",
    "\n",
    "#Dataframe of max value\n",
    "#df.loc[df['num_words']==df['num_words'].max()]\n",
    "\n",
    "\n",
    "len(abstract_df)\n",
    "#abstract_df.head()"
   ]
  },
  {
   "cell_type": "markdown",
   "metadata": {
    "id": "GegH0dnctnJY"
   },
   "source": [
    "## Set dataframe with:\n",
    "  - Number of abstracts to run algorithms\n",
    "  - Custom dataframe rows\n"
   ]
  },
  {
   "cell_type": "code",
   "execution_count": null,
   "metadata": {
    "colab": {
     "base_uri": "https://localhost:8080/",
     "height": 793
    },
    "executionInfo": {
     "elapsed": 755,
     "status": "ok",
     "timestamp": 1621190046492,
     "user": {
      "displayName": "Appanna M P",
      "photoUrl": "",
      "userId": "15798677300444359000"
     },
     "user_tz": -120
    },
    "id": "I6ZbTLMrtwRK",
    "outputId": "87226f3f-913e-465c-91ae-9fa004458f88"
   },
   "outputs": [
    {
     "data": {
      "text/html": [
       "<div>\n",
       "<style scoped>\n",
       "    .dataframe tbody tr th:only-of-type {\n",
       "        vertical-align: middle;\n",
       "    }\n",
       "\n",
       "    .dataframe tbody tr th {\n",
       "        vertical-align: top;\n",
       "    }\n",
       "\n",
       "    .dataframe thead th {\n",
       "        text-align: right;\n",
       "    }\n",
       "</style>\n",
       "<table border=\"1\" class=\"dataframe\">\n",
       "  <thead>\n",
       "    <tr style=\"text-align: right;\">\n",
       "      <th></th>\n",
       "      <th>titles</th>\n",
       "      <th>abstracts</th>\n",
       "      <th>authors</th>\n",
       "      <th>keywords</th>\n",
       "      <th>sources</th>\n",
       "      <th>dates</th>\n",
       "      <th>num_sents</th>\n",
       "      <th>num_words</th>\n",
       "    </tr>\n",
       "  </thead>\n",
       "  <tbody>\n",
       "    <tr>\n",
       "      <th>0</th>\n",
       "      <td>Examining the social and biophysical determina...</td>\n",
       "      <td>Precision agricultural technologies (PA) such ...</td>\n",
       "      <td>[Gardezi, Maaz, Bronson, Kelly]</td>\n",
       "      <td>[corn, farmers, financial economics, food prod...</td>\n",
       "      <td>Precision agriculture</td>\n",
       "      <td>2020</td>\n",
       "      <td>6</td>\n",
       "      <td>198</td>\n",
       "    </tr>\n",
       "    <tr>\n",
       "      <th>1</th>\n",
       "      <td>Wireless Sensor Network Synchronization for Pr...</td>\n",
       "      <td>The advent of Internet of Things has propelled...</td>\n",
       "      <td>[Zervopoulos, Alexandros, Tsipis, Athanasios, ...</td>\n",
       "      <td>[Olea europaea, decision making, environmental...</td>\n",
       "      <td>Agriculture (Basel)</td>\n",
       "      <td>2020</td>\n",
       "      <td>9</td>\n",
       "      <td>197</td>\n",
       "    </tr>\n",
       "    <tr>\n",
       "      <th>2</th>\n",
       "      <td>Smartphone Applications Targeting Precision Ag...</td>\n",
       "      <td>Traditionally farmers have used their perceptu...</td>\n",
       "      <td>[Mendes, Jorge, Pinho, Tatiana  M., Neves dos ...</td>\n",
       "      <td>[cost effectiveness, crops, farmers, humans, m...</td>\n",
       "      <td>Agronomy</td>\n",
       "      <td>2020</td>\n",
       "      <td>9</td>\n",
       "      <td>216</td>\n",
       "    </tr>\n",
       "    <tr>\n",
       "      <th>3</th>\n",
       "      <td>Controlled release micronutrient fertilizers f...</td>\n",
       "      <td>The rapid growth of the global population and ...</td>\n",
       "      <td>[Mikula, Katarzyna, Izydorczyk, Grzegorz, Skrz...</td>\n",
       "      <td>[coatings, farmers, food safety, groundwater, ...</td>\n",
       "      <td>The Science of the total environment</td>\n",
       "      <td>2020</td>\n",
       "      <td>8</td>\n",
       "      <td>159</td>\n",
       "    </tr>\n",
       "    <tr>\n",
       "      <th>4</th>\n",
       "      <td>Farm adoption of embodied knowledge and inform...</td>\n",
       "      <td>On-farm adoption of individual and groups of p...</td>\n",
       "      <td>[Miller, N. J., Griffin, T. W., Ciampitti, I. ...</td>\n",
       "      <td>[farms, precision agriculture, probability, Ka...</td>\n",
       "      <td>Precision agriculture</td>\n",
       "      <td>2019</td>\n",
       "      <td>6</td>\n",
       "      <td>152</td>\n",
       "    </tr>\n",
       "    <tr>\n",
       "      <th>...</th>\n",
       "      <td>...</td>\n",
       "      <td>...</td>\n",
       "      <td>...</td>\n",
       "      <td>...</td>\n",
       "      <td>...</td>\n",
       "      <td>...</td>\n",
       "      <td>...</td>\n",
       "      <td>...</td>\n",
       "    </tr>\n",
       "    <tr>\n",
       "      <th>95</th>\n",
       "      <td>Golf course superintendents’ knowledge of vari...</td>\n",
       "      <td>Golf course superintendent’s knowledge of vari...</td>\n",
       "      <td>[Straw, Chase M., Wardrop, William S., Horgan,...</td>\n",
       "      <td>[case studies, geographic information systems,...</td>\n",
       "      <td>Precision agriculture</td>\n",
       "      <td>2020</td>\n",
       "      <td>10</td>\n",
       "      <td>247</td>\n",
       "    </tr>\n",
       "    <tr>\n",
       "      <th>96</th>\n",
       "      <td>Performance evaluation of automatic vis-à-vis ...</td>\n",
       "      <td>Laser land levelling has contributed immensely...</td>\n",
       "      <td>[Manpreet-Singh,, Sidhu, Harminder S., Yadvind...</td>\n",
       "      <td>[cost effectiveness, energy use and consumptio...</td>\n",
       "      <td>Precision agriculture</td>\n",
       "      <td>2020</td>\n",
       "      <td>13</td>\n",
       "      <td>267</td>\n",
       "    </tr>\n",
       "    <tr>\n",
       "      <th>97</th>\n",
       "      <td>Agricultural cyber-physical system enabled for...</td>\n",
       "      <td>Recently, several works have been focused on d...</td>\n",
       "      <td>[Selmani, Abdelouahed, Oubehar, Hassan, Outano...</td>\n",
       "      <td>[case studies, greenhouses, irrigation managem...</td>\n",
       "      <td>Biosystems engineering</td>\n",
       "      <td>2019</td>\n",
       "      <td>9</td>\n",
       "      <td>195</td>\n",
       "    </tr>\n",
       "    <tr>\n",
       "      <th>98</th>\n",
       "      <td>Precision conservation meets precision agricul...</td>\n",
       "      <td>Meeting future food demands for 9 billion peop...</td>\n",
       "      <td>[Capmourteres, Virginia, Adams, Justin, Berg, ...</td>\n",
       "      <td>[agricultural land, biodiversity, case studies...</td>\n",
       "      <td>Agricultural systems</td>\n",
       "      <td>2018</td>\n",
       "      <td>8</td>\n",
       "      <td>240</td>\n",
       "    </tr>\n",
       "    <tr>\n",
       "      <th>99</th>\n",
       "      <td>Long-term impact of a precision agriculture sy...</td>\n",
       "      <td>Research is lacking on the long-term impacts o...</td>\n",
       "      <td>[Yost, M. A., Kitchen, N. R., Sudduth, K. A., ...</td>\n",
       "      <td>[Glycine max, Triticum aestivum, Zea mays, can...</td>\n",
       "      <td>Precision agriculture</td>\n",
       "      <td>2017</td>\n",
       "      <td>10</td>\n",
       "      <td>258</td>\n",
       "    </tr>\n",
       "  </tbody>\n",
       "</table>\n",
       "<p>100 rows × 8 columns</p>\n",
       "</div>"
      ],
      "text/plain": [
       "                                               titles  ... num_words\n",
       "0   Examining the social and biophysical determina...  ...       198\n",
       "1   Wireless Sensor Network Synchronization for Pr...  ...       197\n",
       "2   Smartphone Applications Targeting Precision Ag...  ...       216\n",
       "3   Controlled release micronutrient fertilizers f...  ...       159\n",
       "4   Farm adoption of embodied knowledge and inform...  ...       152\n",
       "..                                                ...  ...       ...\n",
       "95  Golf course superintendents’ knowledge of vari...  ...       247\n",
       "96  Performance evaluation of automatic vis-à-vis ...  ...       267\n",
       "97  Agricultural cyber-physical system enabled for...  ...       195\n",
       "98  Precision conservation meets precision agricul...  ...       240\n",
       "99  Long-term impact of a precision agriculture sy...  ...       258\n",
       "\n",
       "[100 rows x 8 columns]"
      ]
     },
     "execution_count": 14,
     "metadata": {
      "tags": []
     },
     "output_type": "execute_result"
    }
   ],
   "source": [
    "#df is referenced throughout the rest of the code\n",
    "\n",
    "#Can create custom dataaframe with selected dataframe to run inference.\n",
    "#index loc of max sents \n",
    "\n",
    "##Custom dataset mix\n",
    "# df=abstract_df.head(8) # to set for first 8 abstracts\n",
    "# max_words_index = abstract_df['num_words'].idxmax() \n",
    "# max_sents_index = abstract_df['num_sents'].idxmax() \n",
    "# df=df.append(abstract_df.loc[max_words_index]) #Add row with max words\n",
    "# df=df.append(abstract_df.loc[max_sents_index]) #Add row with max sentences\n",
    "# df.reset_index(inplace=True,drop=True)\n",
    "##Custom dataset mix\n",
    "\n",
    "df=abstract_df.head(100) # to set for first 'n' abstracts\n",
    "df"
   ]
  },
  {
   "cell_type": "markdown",
   "metadata": {
    "id": "cEM7gPIBRl_f"
   },
   "source": [
    "## Extractive_TextRank"
   ]
  },
  {
   "cell_type": "markdown",
   "metadata": {
    "id": "HVHzTfrWc-ch"
   },
   "source": [
    "###Imports and tokenization"
   ]
  },
  {
   "cell_type": "code",
   "execution_count": null,
   "metadata": {
    "colab": {
     "base_uri": "https://localhost:8080/"
    },
    "executionInfo": {
     "elapsed": 572,
     "status": "ok",
     "timestamp": 1621190055134,
     "user": {
      "displayName": "Appanna M P",
      "photoUrl": "",
      "userId": "15798677300444359000"
     },
     "user_tz": -120
    },
    "id": "E56wBtyfMS9A",
    "outputId": "9b5ec9f7-8681-4520-f5dd-3cb8df3efd84"
   },
   "outputs": [
    {
     "name": "stdout",
     "output_type": "stream",
     "text": [
      "[nltk_data] Downloading package punkt to /root/nltk_data...\n",
      "[nltk_data]   Package punkt is already up-to-date!\n",
      "[nltk_data] Downloading package stopwords to /root/nltk_data...\n",
      "[nltk_data]   Package stopwords is already up-to-date!\n",
      "CPU times: user 3.45 ms, sys: 0 ns, total: 3.45 ms\n",
      "Wall time: 3.56 ms\n"
     ]
    }
   ],
   "source": [
    "%%time\n",
    "import nltk\n",
    "nltk.download('punkt') # one time execution\n",
    "nltk.download('stopwords')\n",
    "\n",
    "\n",
    "#!pip install --user -U nltk\n",
    "from nltk.tokenize import sent_tokenize\n",
    "\n",
    "import networkx as nx\n",
    "from sklearn.metrics.pairwise import cosine_similarity\n"
   ]
  },
  {
   "cell_type": "code",
   "execution_count": null,
   "metadata": {
    "colab": {
     "base_uri": "https://localhost:8080/"
    },
    "executionInfo": {
     "elapsed": 556,
     "status": "ok",
     "timestamp": 1621190055135,
     "user": {
      "displayName": "Appanna M P",
      "photoUrl": "",
      "userId": "15798677300444359000"
     },
     "user_tz": -120
    },
    "id": "dqXQh0qcez5c",
    "outputId": "65332054-6ede-490c-bd12-f75a8e9b8d86"
   },
   "outputs": [
    {
     "data": {
      "text/plain": [
       "100"
      ]
     },
     "execution_count": 16,
     "metadata": {
      "tags": []
     },
     "output_type": "execute_result"
    }
   ],
   "source": [
    "#df['abstracts'][0]\n",
    "len(df['abstracts'])"
   ]
  },
  {
   "cell_type": "code",
   "execution_count": null,
   "metadata": {
    "colab": {
     "base_uri": "https://localhost:8080/"
    },
    "executionInfo": {
     "elapsed": 889,
     "status": "ok",
     "timestamp": 1621190055477,
     "user": {
      "displayName": "Appanna M P",
      "photoUrl": "",
      "userId": "15798677300444359000"
     },
     "user_tz": -120
    },
    "id": "TbQkzTGifwjh",
    "outputId": "91cb6e92-9f02-4dfa-e74e-91d14137f34d"
   },
   "outputs": [
    {
     "name": "stdout",
     "output_type": "stream",
     "text": [
      "CPU times: user 141 ms, sys: 14 ms, total: 155 ms\n",
      "Wall time: 157 ms\n"
     ]
    }
   ],
   "source": [
    "#Tokenize full abstract dataset into its constituent sentences\n",
    "%%time\n",
    "#walltime 39.7s for all abstracts(full dataset).  Average 2000 abstracs per sec\n",
    "#from nltk.tokenize import sent_tokenize\n",
    "\n",
    "\n",
    "#Select which dataframe to use here. Either abstract_df or sliced_df\n",
    "#df=abstract_df\n",
    "\n",
    "sentences = []\n",
    "for s in df['abstracts']: #for each abstract in the column\n",
    "  sentences.append(sent_tokenize(s))"
   ]
  },
  {
   "cell_type": "code",
   "execution_count": null,
   "metadata": {
    "colab": {
     "base_uri": "https://localhost:8080/"
    },
    "executionInfo": {
     "elapsed": 879,
     "status": "ok",
     "timestamp": 1621190055478,
     "user": {
      "displayName": "Appanna M P",
      "photoUrl": "",
      "userId": "15798677300444359000"
     },
     "user_tz": -120
    },
    "id": "M10W5WJ-gRIW",
    "outputId": "12c9551d-b9ba-42a6-87c2-5eddf79320c4"
   },
   "outputs": [
    {
     "data": {
      "text/plain": [
       "['Precision agricultural technologies (PA) such as global positioning system tools have been commercially available since the early 1990s and they are widely thought to have environmental and economic benefit; however, adoption studies show uneven adoption among farmers in the U.S. and Europe.',\n",
       " 'This study aims to tackle a lingering puzzle regarding why some farmers adopt precision agriculture as an approach to food production and why others do not.',\n",
       " 'The specific objective of this study is to examine the social and biophysical determinants of farmers’ adoption of PA.',\n",
       " 'This paper fills a research gap by including measurements of farmer identity—specifically their own conceptions of their role in the food system—as well as their perceptions of biophysical risks as these relate to the adoption of PA among a large sample of Midwestern U.S. farmers.',\n",
       " 'The study has identified that farmer identity and perceptions of environmental risk do indeed influence PA adoption and that these considerations ought to be incorporated into further studies of PA adoption in other jurisdictions.',\n",
       " 'The findings also appear to highlight the social force of policy and industry efforts to frame PA as not only good for productivity and efficiency but also as an ecologically beneficial technology.']"
      ]
     },
     "execution_count": 18,
     "metadata": {
      "tags": []
     },
     "output_type": "execute_result"
    }
   ],
   "source": [
    "sentences[0]"
   ]
  },
  {
   "cell_type": "code",
   "execution_count": null,
   "metadata": {
    "id": "XzAfk7zEhr3f"
   },
   "outputs": [],
   "source": [
    "#sentences[0]"
   ]
  },
  {
   "cell_type": "markdown",
   "metadata": {
    "id": "ig_OxgCehlUi"
   },
   "source": [
    "#### Downloaded GloVe word embeddings.\n",
    "Word embeddings are a type of word representation that allows words with similar meaning to have a similar representation. https://machinelearningmastery.com/what-are-word-embeddings/"
   ]
  },
  {
   "cell_type": "code",
   "execution_count": null,
   "metadata": {
    "colab": {
     "base_uri": "https://localhost:8080/"
    },
    "executionInfo": {
     "elapsed": 12220,
     "status": "ok",
     "timestamp": 1621190066840,
     "user": {
      "displayName": "Appanna M P",
      "photoUrl": "",
      "userId": "15798677300444359000"
     },
     "user_tz": -120
    },
    "id": "4010dc3_YElS",
    "outputId": "3c59b800-cd23-4cd2-efd8-3d68b8a29aec"
   },
   "outputs": [
    {
     "name": "stdout",
     "output_type": "stream",
     "text": [
      "CPU times: user 10.8 s, sys: 348 ms, total: 11.1 s\n",
      "Wall time: 11.4 s\n"
     ]
    }
   ],
   "source": [
    "%%time\n",
    "# Extract word vectors 9.6s for glove 100d. For 1000 abs 9.45s\n",
    "word_embeddings = {}\n",
    "f = open('/content/gdrive/My Drive/Colab Notebooks/glove.6B/glove.6B.100d.txt', encoding='utf-8')\n",
    "for line in f: # Each line refers to a word and its corresponding vector weights\n",
    "    values = line.split() #list of word and the weights\n",
    "    word = values[0]\n",
    "    coefs = np.asarray(values[1:], dtype='float32')\n",
    "    word_embeddings[word] = coefs\n",
    "f.close()"
   ]
  },
  {
   "cell_type": "code",
   "execution_count": null,
   "metadata": {
    "colab": {
     "base_uri": "https://localhost:8080/"
    },
    "executionInfo": {
     "elapsed": 12211,
     "status": "ok",
     "timestamp": 1621190066841,
     "user": {
      "displayName": "Appanna M P",
      "photoUrl": "",
      "userId": "15798677300444359000"
     },
     "user_tz": -120
    },
    "id": "OJ7YtoQiYKp4",
    "outputId": "2867abef-fa53-4170-c6be-250703d57934"
   },
   "outputs": [
    {
     "data": {
      "text/plain": [
       "400000"
      ]
     },
     "execution_count": 21,
     "metadata": {
      "tags": []
     },
     "output_type": "execute_result"
    }
   ],
   "source": [
    "len(word_embeddings) #Number of words\n",
    "#word_embeddings.loc[0]"
   ]
  },
  {
   "cell_type": "markdown",
   "metadata": {
    "id": "HKO7K3usiMLY"
   },
   "source": [
    "#### Text pre-processing"
   ]
  },
  {
   "cell_type": "code",
   "execution_count": null,
   "metadata": {
    "colab": {
     "base_uri": "https://localhost:8080/"
    },
    "executionInfo": {
     "elapsed": 13225,
     "status": "ok",
     "timestamp": 1621190067868,
     "user": {
      "displayName": "Appanna M P",
      "photoUrl": "",
      "userId": "15798677300444359000"
     },
     "user_tz": -120
    },
    "id": "d4XpigVxh1sG",
    "outputId": "7544b19c-ccd0-4c1c-d01a-9b7e2c79bdae"
   },
   "outputs": [
    {
     "name": "stdout",
     "output_type": "stream",
     "text": [
      "CPU times: user 796 ms, sys: 24 ms, total: 820 ms\n",
      "Wall time: 798 ms\n"
     ]
    }
   ],
   "source": [
    "%%time\n",
    "#14min 12 secs,13min 14s for full dataset\n",
    "#6.85s for 1000 \n",
    "\n",
    "# remove punctuations, numbers and special characters\n",
    "# For clean_sents[0] need to get all the sents of abstract 1\n",
    "\n",
    "\n",
    "clean_sentences=[] #list of abstracts\n",
    "for each_abs in sentences:\n",
    "    sublists=[]\n",
    "    for sents in each_abs:\n",
    "        a = sents.lower()\n",
    "        b = pd.Series(a).str.replace(\"[^a-zA-Z]\", \" \") #replace anything which is not a-zA-Z; numbers,special characters etc.\n",
    "        #b = a.str.lower()\n",
    "        sublists.append(str(b))\n",
    "    clean_sentences.append(sublists)"
   ]
  },
  {
   "cell_type": "code",
   "execution_count": null,
   "metadata": {
    "colab": {
     "base_uri": "https://localhost:8080/"
    },
    "executionInfo": {
     "elapsed": 13206,
     "status": "ok",
     "timestamp": 1621190067870,
     "user": {
      "displayName": "Appanna M P",
      "photoUrl": "",
      "userId": "15798677300444359000"
     },
     "user_tz": -120
    },
    "id": "WaxCM1L1mQWA",
    "outputId": "7e153d72-3b17-4dd6-bd41-10f19b48dae7"
   },
   "outputs": [
    {
     "data": {
      "text/plain": [
       "['0    precision agricultural technologies  pa  such ...\\ndtype: object',\n",
       " '0    this study aims to tackle a lingering puzzle r...\\ndtype: object',\n",
       " '0    the specific objective of this study is to exa...\\ndtype: object',\n",
       " '0    this paper fills a research gap by including m...\\ndtype: object',\n",
       " '0    the study has identified that farmer identity ...\\ndtype: object',\n",
       " '0    the findings also appear to highlight the soci...\\ndtype: object']"
      ]
     },
     "execution_count": 23,
     "metadata": {
      "tags": []
     },
     "output_type": "execute_result"
    }
   ],
   "source": [
    "clean_sentences[0]"
   ]
  },
  {
   "cell_type": "code",
   "execution_count": null,
   "metadata": {
    "id": "5K2cUyfyiRkB"
   },
   "outputs": [],
   "source": [
    "\n",
    "#Remove stopwords\n",
    "\n",
    "#stop_words = stopwords.words('english') #from ntlk.corpus import stopwords\n",
    "stop_words = nltk.corpus.stopwords.words('english')\n",
    "# function to remove stopwords\n",
    "def remove_stopwords(sen):\n",
    "    sen_new = \" \".join([i for i in sen if i not in stop_words])\n",
    "    return sen_new\n",
    "\n",
    "\n",
    "\n"
   ]
  },
  {
   "cell_type": "code",
   "execution_count": null,
   "metadata": {
    "colab": {
     "base_uri": "https://localhost:8080/"
    },
    "executionInfo": {
     "elapsed": 13192,
     "status": "ok",
     "timestamp": 1621190067874,
     "user": {
      "displayName": "Appanna M P",
      "photoUrl": "",
      "userId": "15798677300444359000"
     },
     "user_tz": -120
    },
    "id": "BKJ4ZSpsioyC",
    "outputId": "efc8fcca-295c-4a5c-814c-0389ae63394f"
   },
   "outputs": [
    {
     "name": "stdout",
     "output_type": "stream",
     "text": [
      "0 precision agricultural technologies pa ... dtype: object\n",
      "CPU times: user 26.1 ms, sys: 12 µs, total: 26.1 ms\n",
      "Wall time: 27.2 ms\n"
     ]
    }
   ],
   "source": [
    "# remove stopwords from the sentences\n",
    "#For 1000 abs 214 ms\n",
    "%%time\n",
    "\n",
    "clean_sents2=[]\n",
    "for each_abs in clean_sentences:\n",
    "    sublists=[]\n",
    "    for sents in each_abs: #for each sentence in the each abstract\n",
    "        a= remove_stopwords(sents.split())\n",
    "        sublists.append(a)\n",
    "    clean_sents2.append(sublists)\n",
    "\n",
    "clean_sentences=clean_sents2\n",
    "print(clean_sentences[0][0])"
   ]
  },
  {
   "cell_type": "code",
   "execution_count": null,
   "metadata": {
    "colab": {
     "base_uri": "https://localhost:8080/"
    },
    "executionInfo": {
     "elapsed": 13186,
     "status": "ok",
     "timestamp": 1621190067875,
     "user": {
      "displayName": "Appanna M P",
      "photoUrl": "",
      "userId": "15798677300444359000"
     },
     "user_tz": -120
    },
    "id": "3MqG3YVOiF3m",
    "outputId": "6fb6e2f1-4f9f-4137-8b3f-b316fa9a6a6a"
   },
   "outputs": [
    {
     "data": {
      "text/plain": [
       "['0 precision agricultural technologies pa ... dtype: object',\n",
       " '0 study aims tackle lingering puzzle r... dtype: object',\n",
       " '0 specific objective study exa... dtype: object',\n",
       " '0 paper fills research gap including m... dtype: object',\n",
       " '0 study identified farmer identity ... dtype: object',\n",
       " '0 findings also appear highlight soci... dtype: object']"
      ]
     },
     "execution_count": 26,
     "metadata": {
      "tags": []
     },
     "output_type": "execute_result"
    }
   ],
   "source": [
    "clean_sentences[0]"
   ]
  },
  {
   "cell_type": "code",
   "execution_count": null,
   "metadata": {
    "id": "pMF0OMo7XHp7"
   },
   "outputs": [],
   "source": []
  },
  {
   "cell_type": "markdown",
   "metadata": {
    "id": "NTRgbk6wi84K"
   },
   "source": [
    "### Sentence Vectors\n",
    "Each sentence has to have a sentence vector. But all sentences of a particular abstract should also be grouped(within a list). This allows similarity matrix to be prepared for each abstract and assign score for sentences within its own abstract."
   ]
  },
  {
   "cell_type": "code",
   "execution_count": null,
   "metadata": {
    "colab": {
     "base_uri": "https://localhost:8080/"
    },
    "executionInfo": {
     "elapsed": 13172,
     "status": "ok",
     "timestamp": 1621190067876,
     "user": {
      "displayName": "Appanna M P",
      "photoUrl": "",
      "userId": "15798677300444359000"
     },
     "user_tz": -120
    },
    "id": "cA3ONUfUi6a9",
    "outputId": "bdd63716-3a2f-4309-a3a8-8b3ae32edecb"
   },
   "outputs": [
    {
     "name": "stdout",
     "output_type": "stream",
     "text": [
      "CPU times: user 22.4 ms, sys: 11 µs, total: 22.4 ms\n",
      "Wall time: 24.3 ms\n"
     ]
    }
   ],
   "source": [
    "# fetch vectors (each of size 100 elements) for the constituent words in a sentence.\n",
    "# Because each word has 100 coeffs in the gloVe 100d word embeddings.\n",
    "# Take mean/average of those vectors to arrive at a consolidated vector for the sentence.\n",
    "# This means that the coeffs for each word are summed for the sentence. Averaged for sentence so that salient words/themes in the sentence can be identified.\n",
    "%%time\n",
    "#138ms for 1000 abstracts\n",
    "sentence_vectors_outer = []\n",
    "for each_abs in clean_sentences:\n",
    "    sentence_vectors_inner = [] #Define an inner list to capture sentences for each abstract.\n",
    "    for sents in each_abs:\n",
    "        if len(sents) != 0:\n",
    "            v = sum([word_embeddings.get(w, np.zeros((100,))) for w in sents.split()])/(len(sents.split())+0.001) #get coeffs for word; default to zeros (in.get) if word not present in word_embeddings dict\n",
    "        else:\n",
    "            v = np.zeros((100,))\n",
    "        sentence_vectors_inner.append(v)\n",
    "    sentence_vectors_outer.append(sentence_vectors_inner)"
   ]
  },
  {
   "cell_type": "code",
   "execution_count": null,
   "metadata": {
    "id": "OZ-qFi-QjUy9"
   },
   "outputs": [],
   "source": [
    "#sentence_vectors_outer[0][0] #First sentence of the first abstract"
   ]
  },
  {
   "cell_type": "markdown",
   "metadata": {
    "id": "FmTC2ZZCPjWu"
   },
   "source": [
    "### Similarity Matrix Preparation\n",
    "The next step is to find similarities between the sentences, and we will use the cosine similarity approach for this challenge. Let’s create an empty similarity matrix for this task and populate it with cosine similarities of the sentences.\n",
    "\n",
    "For multiple abstracts, we should consider similarities within the abstract. So the shape of similarity mat will depend on number of sentences within each of the abstracts."
   ]
  },
  {
   "cell_type": "code",
   "execution_count": null,
   "metadata": {
    "colab": {
     "base_uri": "https://localhost:8080/"
    },
    "executionInfo": {
     "elapsed": 13151,
     "status": "ok",
     "timestamp": 1621190067877,
     "user": {
      "displayName": "Appanna M P",
      "photoUrl": "",
      "userId": "15798677300444359000"
     },
     "user_tz": -120
    },
    "id": "DzUXpoCCPl5C",
    "outputId": "8116a191-0d8b-406d-e1f8-5c8bd4e16a3d"
   },
   "outputs": [
    {
     "name": "stdout",
     "output_type": "stream",
     "text": [
      "CPU times: user 1.43 ms, sys: 0 ns, total: 1.43 ms\n",
      "Wall time: 1.85 ms\n"
     ]
    }
   ],
   "source": [
    "%%time\n",
    "#113microsecs for 5\n",
    "#12.3ms for 1000\n",
    "sim_mat_inner = []\n",
    "for each_abs in clean_sentences:\n",
    "    for sents in each_abs:\n",
    "        sim_mat = np.zeros([len(each_abs), len(each_abs)])\n",
    "    sim_mat_inner.append(sim_mat)  "
   ]
  },
  {
   "cell_type": "code",
   "execution_count": null,
   "metadata": {
    "id": "vnz-qv_5PtAB"
   },
   "outputs": [],
   "source": [
    "#sim_mat_inner[0]"
   ]
  },
  {
   "cell_type": "code",
   "execution_count": null,
   "metadata": {
    "colab": {
     "base_uri": "https://localhost:8080/"
    },
    "executionInfo": {
     "elapsed": 29174,
     "status": "ok",
     "timestamp": 1621190083915,
     "user": {
      "displayName": "Appanna M P",
      "photoUrl": "",
      "userId": "15798677300444359000"
     },
     "user_tz": -120
    },
    "id": "2s_CX46Dlkt4",
    "outputId": "b050cef2-886d-4f1f-ed81-2bc4b6551d86"
   },
   "outputs": [
    {
     "name": "stdout",
     "output_type": "stream",
     "text": [
      "CPU times: user 16.3 s, sys: 695 ms, total: 17 s\n",
      "Wall time: 15.9 s\n"
     ]
    }
   ],
   "source": [
    "%%time\n",
    "#from sklearn.metrics.pairwise import cosine_similarity\n",
    "#411ms for 5\n",
    "#3m23s for 1000\n",
    "#22.2s for 100\n",
    "\n",
    "#All models sequntial in 1 shot. To avoid differences in runtime.\n",
    "#1.87s for 10 Colab with GPU\n",
    "#15.9 for 100\n",
    "\n",
    "for ind,each_abs in enumerate(clean_sentences): # to use index of a list we should use 'enumerate'\n",
    "    for sents in each_abs:\n",
    "        for i in range(len(each_abs)): #len(sents) is the number of sentences. sim_mat_out has been initialised to this \n",
    "            for j in range(len(each_abs)):\n",
    "                if i != j: #diagonal remains 0 because it compares sentence with itself\n",
    "                    sim_mat_inner[ind][i][j] = cosine_similarity(sentence_vectors_outer[ind][i].reshape(1,100), sentence_vectors_outer[ind][j].reshape(1,100))[0,0]\n",
    "        #sim_mat_outer.append(sim_mat_inner)"
   ]
  },
  {
   "cell_type": "markdown",
   "metadata": {
    "id": "SelZbfJNQUIk"
   },
   "source": [
    "### Applying PageRank algorithm as TextRank"
   ]
  },
  {
   "cell_type": "code",
   "execution_count": null,
   "metadata": {
    "colab": {
     "base_uri": "https://localhost:8080/"
    },
    "executionInfo": {
     "elapsed": 29168,
     "status": "ok",
     "timestamp": 1621190083916,
     "user": {
      "displayName": "Appanna M P",
      "photoUrl": "",
      "userId": "15798677300444359000"
     },
     "user_tz": -120
    },
    "id": "3lTO7WcsQMO6",
    "outputId": "c9c263a3-a9ab-4ec3-b7b8-0de6b1a5b746"
   },
   "outputs": [
    {
     "name": "stdout",
     "output_type": "stream",
     "text": [
      "CPU times: user 149 ms, sys: 3.03 ms, total: 152 ms\n",
      "Wall time: 153 ms\n"
     ]
    }
   ],
   "source": [
    "%%time\n",
    "#import networkx as nx\n",
    "\n",
    "score_list=[]\n",
    "for ind, each_abs in enumerate(clean_sentences):\n",
    "    nx_graph = nx.from_numpy_array(sim_mat_inner[ind])\n",
    "    scores = nx.pagerank(nx_graph) #score is dict with key as sent and value as score.\n",
    "    score_list.append(scores)"
   ]
  },
  {
   "cell_type": "code",
   "execution_count": null,
   "metadata": {
    "colab": {
     "base_uri": "https://localhost:8080/"
    },
    "executionInfo": {
     "elapsed": 29162,
     "status": "ok",
     "timestamp": 1621190083917,
     "user": {
      "displayName": "Appanna M P",
      "photoUrl": "",
      "userId": "15798677300444359000"
     },
     "user_tz": -120
    },
    "id": "zcX-aqkzQeG8",
    "outputId": "38f7c51f-a3e9-41fb-f943-3938405b8d85"
   },
   "outputs": [
    {
     "data": {
      "text/plain": [
       "{0: 0.1578701090600545,\n",
       " 1: 0.16484575234929832,\n",
       " 2: 0.17202576739350708,\n",
       " 3: 0.16994174502791834,\n",
       " 4: 0.16791917665638473,\n",
       " 5: 0.16739744951283703}"
      ]
     },
     "execution_count": 33,
     "metadata": {
      "tags": []
     },
     "output_type": "execute_result"
    }
   ],
   "source": [
    "score_list[0]"
   ]
  },
  {
   "cell_type": "markdown",
   "metadata": {
    "id": "4xDjAB1lQjbm"
   },
   "source": [
    "### Summary Extraction"
   ]
  },
  {
   "cell_type": "code",
   "execution_count": null,
   "metadata": {
    "colab": {
     "base_uri": "https://localhost:8080/"
    },
    "executionInfo": {
     "elapsed": 29156,
     "status": "ok",
     "timestamp": 1621190083918,
     "user": {
      "displayName": "Appanna M P",
      "photoUrl": "",
      "userId": "15798677300444359000"
     },
     "user_tz": -120
    },
    "id": "jLEmOlaeQlus",
    "outputId": "1de8827c-897d-46ca-b8b4-9cfc143750c8"
   },
   "outputs": [
    {
     "name": "stdout",
     "output_type": "stream",
     "text": [
      "CPU times: user 1.29 ms, sys: 0 ns, total: 1.29 ms\n",
      "Wall time: 1.55 ms\n"
     ]
    }
   ],
   "source": [
    "%%time\n",
    "#11.2ms for 1000\n",
    "#Note how here we have used 'sentences' to reference the original sentences\n",
    "\n",
    "ranked_sent_list=[]\n",
    "for ind1,each_abs in enumerate(sentences): \n",
    "    ranked_sublist=[]\n",
    "    for ind2,sents in enumerate(each_abs):\n",
    "        a=(score_list[ind1][ind2],sents)\n",
    "        ranked_sublist.append(a)\n",
    "    ranked_sent_list.append(sorted(ranked_sublist,reverse=True))"
   ]
  },
  {
   "cell_type": "code",
   "execution_count": null,
   "metadata": {
    "colab": {
     "base_uri": "https://localhost:8080/"
    },
    "executionInfo": {
     "elapsed": 29147,
     "status": "ok",
     "timestamp": 1621190083918,
     "user": {
      "displayName": "Appanna M P",
      "photoUrl": "",
      "userId": "15798677300444359000"
     },
     "user_tz": -120
    },
    "id": "uatHGS3hQre4",
    "outputId": "6317253d-b56c-4d26-d00b-5b7ba38c514d"
   },
   "outputs": [
    {
     "data": {
      "text/plain": [
       "6"
      ]
     },
     "execution_count": 35,
     "metadata": {
      "tags": []
     },
     "output_type": "execute_result"
    }
   ],
   "source": [
    "#ranked_sent_list[999]\n",
    "len(sentences[0])"
   ]
  },
  {
   "cell_type": "code",
   "execution_count": null,
   "metadata": {
    "colab": {
     "base_uri": "https://localhost:8080/"
    },
    "executionInfo": {
     "elapsed": 29140,
     "status": "ok",
     "timestamp": 1621190083919,
     "user": {
      "displayName": "Appanna M P",
      "photoUrl": "",
      "userId": "15798677300444359000"
     },
     "user_tz": -120
    },
    "id": "P7qYwah9QyKw",
    "outputId": "04793df0-2c66-4d87-9764-8950a1f14d70"
   },
   "outputs": [
    {
     "name": "stdout",
     "output_type": "stream",
     "text": [
      "CPU times: user 19.8 ms, sys: 0 ns, total: 19.8 ms\n",
      "Wall time: 24.2 ms\n"
     ]
    },
    {
     "name": "stderr",
     "output_type": "stream",
     "text": [
      "/usr/local/lib/python3.7/dist-packages/ipykernel_launcher.py:3: SettingWithCopyWarning: \n",
      "A value is trying to be set on a copy of a slice from a DataFrame.\n",
      "Try using .loc[row_indexer,col_indexer] = value instead\n",
      "\n",
      "See the caveats in the documentation: https://pandas.pydata.org/pandas-docs/stable/user_guide/indexing.html#returning-a-view-versus-a-copy\n",
      "  This is separate from the ipykernel package so we can avoid doing imports until\n",
      "/usr/local/lib/python3.7/dist-packages/ipykernel_launcher.py:16: SettingWithCopyWarning: \n",
      "A value is trying to be set on a copy of a slice from a DataFrame\n",
      "\n",
      "See the caveats in the documentation: https://pandas.pydata.org/pandas-docs/stable/user_guide/indexing.html#returning-a-view-versus-a-copy\n",
      "  app.launch_new_instance()\n",
      "/usr/local/lib/python3.7/dist-packages/IPython/core/magics/execution.py:1193: SettingWithCopyWarning: \n",
      "A value is trying to be set on a copy of a slice from a DataFrame\n",
      "\n",
      "See the caveats in the documentation: https://pandas.pydata.org/pandas-docs/stable/user_guide/indexing.html#returning-a-view-versus-a-copy\n",
      "  exec(code, glob, local_ns)\n"
     ]
    }
   ],
   "source": [
    "%%time\n",
    "# 73.9 ms for 1000\n",
    "# Extract top 3 sentences of each abstract as the summary. Add to a new column in the sliced dataframe\n",
    "df['ext_textrank']=\"\"\n",
    "for ind1,each_abs in enumerate(sentences):\n",
    "    #print(\"\\nSummary of Abstract : \", ind1)\n",
    "    new_sum=\"\"\n",
    "    if len(each_abs)>2:\n",
    "      for i in range(3):\n",
    "          new_sum +=ranked_sent_list[ind1][i][1]+' '\n",
    "          #print(ranked_sent_list[ind1][i][1])\n",
    "    else:\n",
    "      for i in range(len(each_abs)):\n",
    "          new_sum +=ranked_sent_list[ind1][i][1]+' '\n",
    "\n",
    "\n",
    "    df['ext_textrank'][ind1]= new_sum\n",
    "    "
   ]
  },
  {
   "cell_type": "code",
   "execution_count": null,
   "metadata": {
    "colab": {
     "base_uri": "https://localhost:8080/",
     "height": 929
    },
    "executionInfo": {
     "elapsed": 29413,
     "status": "ok",
     "timestamp": 1621190084199,
     "user": {
      "displayName": "Appanna M P",
      "photoUrl": "",
      "userId": "15798677300444359000"
     },
     "user_tz": -120
    },
    "id": "soP9MDJTbMXQ",
    "outputId": "db5902f4-b1ad-4fdb-cc86-821adcece140"
   },
   "outputs": [
    {
     "data": {
      "text/html": [
       "<div>\n",
       "<style scoped>\n",
       "    .dataframe tbody tr th:only-of-type {\n",
       "        vertical-align: middle;\n",
       "    }\n",
       "\n",
       "    .dataframe tbody tr th {\n",
       "        vertical-align: top;\n",
       "    }\n",
       "\n",
       "    .dataframe thead th {\n",
       "        text-align: right;\n",
       "    }\n",
       "</style>\n",
       "<table border=\"1\" class=\"dataframe\">\n",
       "  <thead>\n",
       "    <tr style=\"text-align: right;\">\n",
       "      <th></th>\n",
       "      <th>titles</th>\n",
       "      <th>abstracts</th>\n",
       "      <th>authors</th>\n",
       "      <th>keywords</th>\n",
       "      <th>sources</th>\n",
       "      <th>dates</th>\n",
       "      <th>num_sents</th>\n",
       "      <th>num_words</th>\n",
       "      <th>ext_textrank</th>\n",
       "    </tr>\n",
       "  </thead>\n",
       "  <tbody>\n",
       "    <tr>\n",
       "      <th>0</th>\n",
       "      <td>Examining the social and biophysical determina...</td>\n",
       "      <td>Precision agricultural technologies (PA) such ...</td>\n",
       "      <td>[Gardezi, Maaz, Bronson, Kelly]</td>\n",
       "      <td>[corn, farmers, financial economics, food prod...</td>\n",
       "      <td>Precision agriculture</td>\n",
       "      <td>2020</td>\n",
       "      <td>6</td>\n",
       "      <td>198</td>\n",
       "      <td>The specific objective of this study is to exa...</td>\n",
       "    </tr>\n",
       "    <tr>\n",
       "      <th>1</th>\n",
       "      <td>Wireless Sensor Network Synchronization for Pr...</td>\n",
       "      <td>The advent of Internet of Things has propelled...</td>\n",
       "      <td>[Zervopoulos, Alexandros, Tsipis, Athanasios, ...</td>\n",
       "      <td>[Olea europaea, decision making, environmental...</td>\n",
       "      <td>Agriculture (Basel)</td>\n",
       "      <td>2020</td>\n",
       "      <td>9</td>\n",
       "      <td>197</td>\n",
       "      <td>For example, a need for network synchronizatio...</td>\n",
       "    </tr>\n",
       "    <tr>\n",
       "      <th>2</th>\n",
       "      <td>Smartphone Applications Targeting Precision Ag...</td>\n",
       "      <td>Traditionally farmers have used their perceptu...</td>\n",
       "      <td>[Mendes, Jorge, Pinho, Tatiana  M., Neves dos ...</td>\n",
       "      <td>[cost effectiveness, crops, farmers, humans, m...</td>\n",
       "      <td>Agronomy</td>\n",
       "      <td>2020</td>\n",
       "      <td>9</td>\n",
       "      <td>216</td>\n",
       "      <td>Also, this paper is an important resource to h...</td>\n",
       "    </tr>\n",
       "    <tr>\n",
       "      <th>3</th>\n",
       "      <td>Controlled release micronutrient fertilizers f...</td>\n",
       "      <td>The rapid growth of the global population and ...</td>\n",
       "      <td>[Mikula, Katarzyna, Izydorczyk, Grzegorz, Skrz...</td>\n",
       "      <td>[coatings, farmers, food safety, groundwater, ...</td>\n",
       "      <td>The Science of the total environment</td>\n",
       "      <td>2020</td>\n",
       "      <td>8</td>\n",
       "      <td>159</td>\n",
       "      <td>The paper presents new fertilization technolog...</td>\n",
       "    </tr>\n",
       "    <tr>\n",
       "      <th>4</th>\n",
       "      <td>Farm adoption of embodied knowledge and inform...</td>\n",
       "      <td>On-farm adoption of individual and groups of p...</td>\n",
       "      <td>[Miller, N. J., Griffin, T. W., Ciampitti, I. ...</td>\n",
       "      <td>[farms, precision agriculture, probability, Ka...</td>\n",
       "      <td>Precision agriculture</td>\n",
       "      <td>2019</td>\n",
       "      <td>6</td>\n",
       "      <td>152</td>\n",
       "      <td>Each analysis was estimated for two separate t...</td>\n",
       "    </tr>\n",
       "    <tr>\n",
       "      <th>...</th>\n",
       "      <td>...</td>\n",
       "      <td>...</td>\n",
       "      <td>...</td>\n",
       "      <td>...</td>\n",
       "      <td>...</td>\n",
       "      <td>...</td>\n",
       "      <td>...</td>\n",
       "      <td>...</td>\n",
       "      <td>...</td>\n",
       "    </tr>\n",
       "    <tr>\n",
       "      <th>95</th>\n",
       "      <td>Golf course superintendents’ knowledge of vari...</td>\n",
       "      <td>Golf course superintendent’s knowledge of vari...</td>\n",
       "      <td>[Straw, Chase M., Wardrop, William S., Horgan,...</td>\n",
       "      <td>[case studies, geographic information systems,...</td>\n",
       "      <td>Precision agriculture</td>\n",
       "      <td>2020</td>\n",
       "      <td>10</td>\n",
       "      <td>247</td>\n",
       "      <td>This case study used a qualitative GIS approac...</td>\n",
       "    </tr>\n",
       "    <tr>\n",
       "      <th>96</th>\n",
       "      <td>Performance evaluation of automatic vis-à-vis ...</td>\n",
       "      <td>Laser land levelling has contributed immensely...</td>\n",
       "      <td>[Manpreet-Singh,, Sidhu, Harminder S., Yadvind...</td>\n",
       "      <td>[cost effectiveness, energy use and consumptio...</td>\n",
       "      <td>Precision agriculture</td>\n",
       "      <td>2020</td>\n",
       "      <td>13</td>\n",
       "      <td>267</td>\n",
       "      <td>The automatic survey method significantly redu...</td>\n",
       "    </tr>\n",
       "    <tr>\n",
       "      <th>97</th>\n",
       "      <td>Agricultural cyber-physical system enabled for...</td>\n",
       "      <td>Recently, several works have been focused on d...</td>\n",
       "      <td>[Selmani, Abdelouahed, Oubehar, Hassan, Outano...</td>\n",
       "      <td>[case studies, greenhouses, irrigation managem...</td>\n",
       "      <td>Biosystems engineering</td>\n",
       "      <td>2019</td>\n",
       "      <td>9</td>\n",
       "      <td>195</td>\n",
       "      <td>Therefore, a variety of ACPSs has been develop...</td>\n",
       "    </tr>\n",
       "    <tr>\n",
       "      <th>98</th>\n",
       "      <td>Precision conservation meets precision agricul...</td>\n",
       "      <td>Meeting future food demands for 9 billion peop...</td>\n",
       "      <td>[Capmourteres, Virginia, Adams, Justin, Berg, ...</td>\n",
       "      <td>[agricultural land, biodiversity, case studies...</td>\n",
       "      <td>Agricultural systems</td>\n",
       "      <td>2018</td>\n",
       "      <td>8</td>\n",
       "      <td>240</td>\n",
       "      <td>We argue that profit mapping can serve as a ma...</td>\n",
       "    </tr>\n",
       "    <tr>\n",
       "      <th>99</th>\n",
       "      <td>Long-term impact of a precision agriculture sy...</td>\n",
       "      <td>Research is lacking on the long-term impacts o...</td>\n",
       "      <td>[Yost, M. A., Kitchen, N. R., Sudduth, K. A., ...</td>\n",
       "      <td>[Glycine max, Triticum aestivum, Zea mays, can...</td>\n",
       "      <td>Precision agriculture</td>\n",
       "      <td>2017</td>\n",
       "      <td>10</td>\n",
       "      <td>258</td>\n",
       "      <td>Therefore, the greatest production advantage o...</td>\n",
       "    </tr>\n",
       "  </tbody>\n",
       "</table>\n",
       "<p>100 rows × 9 columns</p>\n",
       "</div>"
      ],
      "text/plain": [
       "                                               titles  ...                                       ext_textrank\n",
       "0   Examining the social and biophysical determina...  ...  The specific objective of this study is to exa...\n",
       "1   Wireless Sensor Network Synchronization for Pr...  ...  For example, a need for network synchronizatio...\n",
       "2   Smartphone Applications Targeting Precision Ag...  ...  Also, this paper is an important resource to h...\n",
       "3   Controlled release micronutrient fertilizers f...  ...  The paper presents new fertilization technolog...\n",
       "4   Farm adoption of embodied knowledge and inform...  ...  Each analysis was estimated for two separate t...\n",
       "..                                                ...  ...                                                ...\n",
       "95  Golf course superintendents’ knowledge of vari...  ...  This case study used a qualitative GIS approac...\n",
       "96  Performance evaluation of automatic vis-à-vis ...  ...  The automatic survey method significantly redu...\n",
       "97  Agricultural cyber-physical system enabled for...  ...  Therefore, a variety of ACPSs has been develop...\n",
       "98  Precision conservation meets precision agricul...  ...  We argue that profit mapping can serve as a ma...\n",
       "99  Long-term impact of a precision agriculture sy...  ...  Therefore, the greatest production advantage o...\n",
       "\n",
       "[100 rows x 9 columns]"
      ]
     },
     "execution_count": 37,
     "metadata": {
      "tags": []
     },
     "output_type": "execute_result"
    }
   ],
   "source": [
    "df"
   ]
  },
  {
   "cell_type": "markdown",
   "metadata": {
    "id": "djTJ5NsjpXCN"
   },
   "source": [
    "## Extractive_BERTSUM"
   ]
  },
  {
   "cell_type": "code",
   "execution_count": null,
   "metadata": {
    "colab": {
     "base_uri": "https://localhost:8080/",
     "height": 459
    },
    "executionInfo": {
     "elapsed": 637,
     "status": "ok",
     "timestamp": 1621190126810,
     "user": {
      "displayName": "Appanna M P",
      "photoUrl": "",
      "userId": "15798677300444359000"
     },
     "user_tz": -120
    },
    "id": "xJ3LzDu5pakm",
    "outputId": "1c04f3cb-d5fe-4a8a-cbee-b293c4a16ef1"
   },
   "outputs": [
    {
     "data": {
      "text/html": [
       "<div>\n",
       "<style scoped>\n",
       "    .dataframe tbody tr th:only-of-type {\n",
       "        vertical-align: middle;\n",
       "    }\n",
       "\n",
       "    .dataframe tbody tr th {\n",
       "        vertical-align: top;\n",
       "    }\n",
       "\n",
       "    .dataframe thead th {\n",
       "        text-align: right;\n",
       "    }\n",
       "</style>\n",
       "<table border=\"1\" class=\"dataframe\">\n",
       "  <thead>\n",
       "    <tr style=\"text-align: right;\">\n",
       "      <th></th>\n",
       "      <th>titles</th>\n",
       "      <th>abstracts</th>\n",
       "      <th>authors</th>\n",
       "      <th>keywords</th>\n",
       "      <th>sources</th>\n",
       "      <th>dates</th>\n",
       "      <th>num_sents</th>\n",
       "      <th>num_words</th>\n",
       "      <th>ext_textrank</th>\n",
       "    </tr>\n",
       "  </thead>\n",
       "  <tbody>\n",
       "    <tr>\n",
       "      <th>0</th>\n",
       "      <td>Examining the social and biophysical determina...</td>\n",
       "      <td>Precision agricultural technologies (PA) such ...</td>\n",
       "      <td>[Gardezi, Maaz, Bronson, Kelly]</td>\n",
       "      <td>[corn, farmers, financial economics, food prod...</td>\n",
       "      <td>Precision agriculture</td>\n",
       "      <td>2020</td>\n",
       "      <td>6</td>\n",
       "      <td>198</td>\n",
       "      <td>The specific objective of this study is to exa...</td>\n",
       "    </tr>\n",
       "    <tr>\n",
       "      <th>1</th>\n",
       "      <td>Wireless Sensor Network Synchronization for Pr...</td>\n",
       "      <td>The advent of Internet of Things has propelled...</td>\n",
       "      <td>[Zervopoulos, Alexandros, Tsipis, Athanasios, ...</td>\n",
       "      <td>[Olea europaea, decision making, environmental...</td>\n",
       "      <td>Agriculture (Basel)</td>\n",
       "      <td>2020</td>\n",
       "      <td>9</td>\n",
       "      <td>197</td>\n",
       "      <td>For example, a need for network synchronizatio...</td>\n",
       "    </tr>\n",
       "    <tr>\n",
       "      <th>2</th>\n",
       "      <td>Smartphone Applications Targeting Precision Ag...</td>\n",
       "      <td>Traditionally farmers have used their perceptu...</td>\n",
       "      <td>[Mendes, Jorge, Pinho, Tatiana  M., Neves dos ...</td>\n",
       "      <td>[cost effectiveness, crops, farmers, humans, m...</td>\n",
       "      <td>Agronomy</td>\n",
       "      <td>2020</td>\n",
       "      <td>9</td>\n",
       "      <td>216</td>\n",
       "      <td>Also, this paper is an important resource to h...</td>\n",
       "    </tr>\n",
       "    <tr>\n",
       "      <th>3</th>\n",
       "      <td>Controlled release micronutrient fertilizers f...</td>\n",
       "      <td>The rapid growth of the global population and ...</td>\n",
       "      <td>[Mikula, Katarzyna, Izydorczyk, Grzegorz, Skrz...</td>\n",
       "      <td>[coatings, farmers, food safety, groundwater, ...</td>\n",
       "      <td>The Science of the total environment</td>\n",
       "      <td>2020</td>\n",
       "      <td>8</td>\n",
       "      <td>159</td>\n",
       "      <td>The paper presents new fertilization technolog...</td>\n",
       "    </tr>\n",
       "    <tr>\n",
       "      <th>4</th>\n",
       "      <td>Farm adoption of embodied knowledge and inform...</td>\n",
       "      <td>On-farm adoption of individual and groups of p...</td>\n",
       "      <td>[Miller, N. J., Griffin, T. W., Ciampitti, I. ...</td>\n",
       "      <td>[farms, precision agriculture, probability, Ka...</td>\n",
       "      <td>Precision agriculture</td>\n",
       "      <td>2019</td>\n",
       "      <td>6</td>\n",
       "      <td>152</td>\n",
       "      <td>Each analysis was estimated for two separate t...</td>\n",
       "    </tr>\n",
       "  </tbody>\n",
       "</table>\n",
       "</div>"
      ],
      "text/plain": [
       "                                              titles  ...                                       ext_textrank\n",
       "0  Examining the social and biophysical determina...  ...  The specific objective of this study is to exa...\n",
       "1  Wireless Sensor Network Synchronization for Pr...  ...  For example, a need for network synchronizatio...\n",
       "2  Smartphone Applications Targeting Precision Ag...  ...  Also, this paper is an important resource to h...\n",
       "3  Controlled release micronutrient fertilizers f...  ...  The paper presents new fertilization technolog...\n",
       "4  Farm adoption of embodied knowledge and inform...  ...  Each analysis was estimated for two separate t...\n",
       "\n",
       "[5 rows x 9 columns]"
      ]
     },
     "execution_count": 38,
     "metadata": {
      "tags": []
     },
     "output_type": "execute_result"
    }
   ],
   "source": [
    "df.head()"
   ]
  },
  {
   "cell_type": "code",
   "execution_count": null,
   "metadata": {
    "colab": {
     "base_uri": "https://localhost:8080/"
    },
    "executionInfo": {
     "elapsed": 617,
     "status": "ok",
     "timestamp": 1621190126811,
     "user": {
      "displayName": "Appanna M P",
      "photoUrl": "",
      "userId": "15798677300444359000"
     },
     "user_tz": -120
    },
    "id": "Sor2s0tGubsM",
    "outputId": "bccb1be9-c18b-4569-e584-e57457a72f76"
   },
   "outputs": [
    {
     "data": {
      "text/plain": [
       "100"
      ]
     },
     "execution_count": 39,
     "metadata": {
      "tags": []
     },
     "output_type": "execute_result"
    }
   ],
   "source": [
    "len(df) #Number of abstracts considered"
   ]
  },
  {
   "cell_type": "code",
   "execution_count": null,
   "metadata": {
    "colab": {
     "base_uri": "https://localhost:8080/"
    },
    "executionInfo": {
     "elapsed": 8601,
     "status": "ok",
     "timestamp": 1621190134802,
     "user": {
      "displayName": "Appanna M P",
      "photoUrl": "",
      "userId": "15798677300444359000"
     },
     "user_tz": -120
    },
    "id": "8M6NijM5quHF",
    "outputId": "206e0b4c-d680-429a-fd7d-89e99ff7a208"
   },
   "outputs": [
    {
     "name": "stdout",
     "output_type": "stream",
     "text": [
      "Requirement already satisfied: bert-extractive-summarizer in /usr/local/lib/python3.7/dist-packages (0.7.1)\n",
      "Requirement already satisfied: transformers in /usr/local/lib/python3.7/dist-packages (from bert-extractive-summarizer) (4.6.0)\n",
      "Requirement already satisfied: scikit-learn in /usr/local/lib/python3.7/dist-packages (from bert-extractive-summarizer) (0.22.2.post1)\n",
      "Requirement already satisfied: spacy in /usr/local/lib/python3.7/dist-packages (from bert-extractive-summarizer) (2.2.4)\n",
      "Requirement already satisfied: importlib-metadata; python_version < \"3.8\" in /usr/local/lib/python3.7/dist-packages (from transformers->bert-extractive-summarizer) (4.0.1)\n",
      "Requirement already satisfied: packaging in /usr/local/lib/python3.7/dist-packages (from transformers->bert-extractive-summarizer) (20.9)\n",
      "Requirement already satisfied: sacremoses in /usr/local/lib/python3.7/dist-packages (from transformers->bert-extractive-summarizer) (0.0.45)\n",
      "Requirement already satisfied: huggingface-hub==0.0.8 in /usr/local/lib/python3.7/dist-packages (from transformers->bert-extractive-summarizer) (0.0.8)\n",
      "Requirement already satisfied: numpy>=1.17 in /usr/local/lib/python3.7/dist-packages (from transformers->bert-extractive-summarizer) (1.19.5)\n",
      "Requirement already satisfied: filelock in /usr/local/lib/python3.7/dist-packages (from transformers->bert-extractive-summarizer) (3.0.12)\n",
      "Requirement already satisfied: tokenizers<0.11,>=0.10.1 in /usr/local/lib/python3.7/dist-packages (from transformers->bert-extractive-summarizer) (0.10.2)\n",
      "Requirement already satisfied: requests in /usr/local/lib/python3.7/dist-packages (from transformers->bert-extractive-summarizer) (2.23.0)\n",
      "Requirement already satisfied: tqdm>=4.27 in /usr/local/lib/python3.7/dist-packages (from transformers->bert-extractive-summarizer) (4.41.1)\n",
      "Requirement already satisfied: regex!=2019.12.17 in /usr/local/lib/python3.7/dist-packages (from transformers->bert-extractive-summarizer) (2019.12.20)\n",
      "Requirement already satisfied: joblib>=0.11 in /usr/local/lib/python3.7/dist-packages (from scikit-learn->bert-extractive-summarizer) (1.0.1)\n",
      "Requirement already satisfied: scipy>=0.17.0 in /usr/local/lib/python3.7/dist-packages (from scikit-learn->bert-extractive-summarizer) (1.4.1)\n",
      "Requirement already satisfied: srsly<1.1.0,>=1.0.2 in /usr/local/lib/python3.7/dist-packages (from spacy->bert-extractive-summarizer) (1.0.5)\n",
      "Requirement already satisfied: preshed<3.1.0,>=3.0.2 in /usr/local/lib/python3.7/dist-packages (from spacy->bert-extractive-summarizer) (3.0.5)\n",
      "Requirement already satisfied: plac<1.2.0,>=0.9.6 in /usr/local/lib/python3.7/dist-packages (from spacy->bert-extractive-summarizer) (1.1.3)\n",
      "Requirement already satisfied: wasabi<1.1.0,>=0.4.0 in /usr/local/lib/python3.7/dist-packages (from spacy->bert-extractive-summarizer) (0.8.2)\n",
      "Requirement already satisfied: thinc==7.4.0 in /usr/local/lib/python3.7/dist-packages (from spacy->bert-extractive-summarizer) (7.4.0)\n",
      "Requirement already satisfied: murmurhash<1.1.0,>=0.28.0 in /usr/local/lib/python3.7/dist-packages (from spacy->bert-extractive-summarizer) (1.0.5)\n",
      "Requirement already satisfied: catalogue<1.1.0,>=0.0.7 in /usr/local/lib/python3.7/dist-packages (from spacy->bert-extractive-summarizer) (1.0.0)\n",
      "Requirement already satisfied: cymem<2.1.0,>=2.0.2 in /usr/local/lib/python3.7/dist-packages (from spacy->bert-extractive-summarizer) (2.0.5)\n",
      "Requirement already satisfied: blis<0.5.0,>=0.4.0 in /usr/local/lib/python3.7/dist-packages (from spacy->bert-extractive-summarizer) (0.4.1)\n",
      "Requirement already satisfied: setuptools in /usr/local/lib/python3.7/dist-packages (from spacy->bert-extractive-summarizer) (56.1.0)\n",
      "Requirement already satisfied: typing-extensions>=3.6.4; python_version < \"3.8\" in /usr/local/lib/python3.7/dist-packages (from importlib-metadata; python_version < \"3.8\"->transformers->bert-extractive-summarizer) (3.7.4.3)\n",
      "Requirement already satisfied: zipp>=0.5 in /usr/local/lib/python3.7/dist-packages (from importlib-metadata; python_version < \"3.8\"->transformers->bert-extractive-summarizer) (3.4.1)\n",
      "Requirement already satisfied: pyparsing>=2.0.2 in /usr/local/lib/python3.7/dist-packages (from packaging->transformers->bert-extractive-summarizer) (2.4.7)\n",
      "Requirement already satisfied: click in /usr/local/lib/python3.7/dist-packages (from sacremoses->transformers->bert-extractive-summarizer) (8.0.0)\n",
      "Requirement already satisfied: six in /usr/local/lib/python3.7/dist-packages (from sacremoses->transformers->bert-extractive-summarizer) (1.15.0)\n",
      "Requirement already satisfied: chardet<4,>=3.0.2 in /usr/local/lib/python3.7/dist-packages (from requests->transformers->bert-extractive-summarizer) (3.0.4)\n",
      "Requirement already satisfied: idna<3,>=2.5 in /usr/local/lib/python3.7/dist-packages (from requests->transformers->bert-extractive-summarizer) (2.10)\n",
      "Requirement already satisfied: urllib3!=1.25.0,!=1.25.1,<1.26,>=1.21.1 in /usr/local/lib/python3.7/dist-packages (from requests->transformers->bert-extractive-summarizer) (1.24.3)\n",
      "Requirement already satisfied: certifi>=2017.4.17 in /usr/local/lib/python3.7/dist-packages (from requests->transformers->bert-extractive-summarizer) (2020.12.5)\n",
      "Requirement already satisfied: sentencepiece in /usr/local/lib/python3.7/dist-packages (0.1.95)\n"
     ]
    }
   ],
   "source": [
    "!pip install bert-extractive-summarizer\n",
    "!pip install sentencepiece"
   ]
  },
  {
   "cell_type": "code",
   "execution_count": null,
   "metadata": {
    "colab": {
     "base_uri": "https://localhost:8080/"
    },
    "executionInfo": {
     "elapsed": 55387,
     "status": "ok",
     "timestamp": 1621190181596,
     "user": {
      "displayName": "Appanna M P",
      "photoUrl": "",
      "userId": "15798677300444359000"
     },
     "user_tz": -120
    },
    "id": "zuj_N5EBqunX",
    "outputId": "b75b34eb-d23e-4273-f957-30446155b2fb"
   },
   "outputs": [
    {
     "name": "stderr",
     "output_type": "stream",
     "text": [
      "Some weights of the model checkpoint at bert-large-uncased were not used when initializing BertModel: ['cls.predictions.transform.dense.bias', 'cls.predictions.decoder.weight', 'cls.seq_relationship.weight', 'cls.predictions.transform.LayerNorm.weight', 'cls.predictions.bias', 'cls.predictions.transform.dense.weight', 'cls.seq_relationship.bias', 'cls.predictions.transform.LayerNorm.bias']\n",
      "- This IS expected if you are initializing BertModel from the checkpoint of a model trained on another task or with another architecture (e.g. initializing a BertForSequenceClassification model from a BertForPreTraining model).\n",
      "- This IS NOT expected if you are initializing BertModel from the checkpoint of a model that you expect to be exactly identical (initializing a BertForSequenceClassification model from a BertForSequenceClassification model).\n"
     ]
    }
   ],
   "source": [
    "from summarizer import Summarizer\n",
    "\n",
    "model = Summarizer()\n",
    "\n",
    "#Only works if sufficient resources have been allocated in google colab"
   ]
  },
  {
   "cell_type": "code",
   "execution_count": null,
   "metadata": {
    "colab": {
     "base_uri": "https://localhost:8080/",
     "height": 137
    },
    "executionInfo": {
     "elapsed": 60260,
     "status": "ok",
     "timestamp": 1621190186478,
     "user": {
      "displayName": "Appanna M P",
      "photoUrl": "",
      "userId": "15798677300444359000"
     },
     "user_tz": -120
    },
    "id": "OJQLcaR-q6xV",
    "outputId": "efdc8633-1805-4b6d-99d7-751fb08f8925"
   },
   "outputs": [
    {
     "name": "stdout",
     "output_type": "stream",
     "text": [
      "CPU times: user 4.74 s, sys: 32.1 ms, total: 4.77 s\n",
      "Wall time: 4.87 s\n"
     ]
    },
    {
     "data": {
      "application/vnd.google.colaboratory.intrinsic+json": {
       "type": "string"
      },
      "text/plain": [
       "'Precision agricultural technologies (PA) such as global positioning system tools have been commercially available since the early 1990s and they are widely thought to have environmental and economic benefit; however, adoption studies show uneven adoption among farmers in the U.S. and Europe. The findings also appear to highlight the social force of policy and industry efforts to frame PA as not only good for productivity and efficiency but also as an ecologically beneficial technology.'"
      ]
     },
     "execution_count": 42,
     "metadata": {
      "tags": []
     },
     "output_type": "execute_result"
    }
   ],
   "source": [
    "## Test on the first abstract\n",
    "%%time\n",
    "model(df['abstracts'][0])"
   ]
  },
  {
   "cell_type": "code",
   "execution_count": null,
   "metadata": {
    "id": "mGRUIYPEran0"
   },
   "outputs": [],
   "source": [
    "#Function to apply on full dataframe\n",
    "def bertsum(text): #pass in the dataframe\n",
    "    bertsum=model(text)\n",
    "    return bertsum"
   ]
  },
  {
   "cell_type": "code",
   "execution_count": null,
   "metadata": {
    "colab": {
     "base_uri": "https://localhost:8080/"
    },
    "executionInfo": {
     "elapsed": 649469,
     "status": "ok",
     "timestamp": 1621190775700,
     "user": {
      "displayName": "Appanna M P",
      "photoUrl": "",
      "userId": "15798677300444359000"
     },
     "user_tz": -120
    },
    "id": "5J_WgYggrbIf",
    "outputId": "3b819795-0289-4e78-b4a2-27bf2ef5df89"
   },
   "outputs": [
    {
     "name": "stdout",
     "output_type": "stream",
     "text": [
      "CPU times: user 9min 47s, sys: 9.02 s, total: 9min 56s\n",
      "Wall time: 9min 49s\n"
     ]
    },
    {
     "name": "stderr",
     "output_type": "stream",
     "text": [
      "/usr/local/lib/python3.7/dist-packages/ipykernel_launcher.py:4: SettingWithCopyWarning: \n",
      "A value is trying to be set on a copy of a slice from a DataFrame.\n",
      "Try using .loc[row_indexer,col_indexer] = value instead\n",
      "\n",
      "See the caveats in the documentation: https://pandas.pydata.org/pandas-docs/stable/user_guide/indexing.html#returning-a-view-versus-a-copy\n",
      "  after removing the cwd from sys.path.\n"
     ]
    }
   ],
   "source": [
    "%%time\n",
    "#df=abstract_df.head(5) #Try to implement for subset of the dataframe\n",
    "\n",
    "#Time for 10 abs 59.1s\n",
    "#9m49s for 100\n",
    "df['ext_bertsum']= df['abstracts'].apply(lambda x: bertsum(x))"
   ]
  },
  {
   "cell_type": "code",
   "execution_count": null,
   "metadata": {
    "colab": {
     "base_uri": "https://localhost:8080/",
     "height": 1000
    },
    "executionInfo": {
     "elapsed": 649483,
     "status": "ok",
     "timestamp": 1621190775722,
     "user": {
      "displayName": "Appanna M P",
      "photoUrl": "",
      "userId": "15798677300444359000"
     },
     "user_tz": -120
    },
    "id": "B7CD1O71spJO",
    "outputId": "418e10f4-de88-4a2e-ef6e-ace26cb019a2"
   },
   "outputs": [
    {
     "data": {
      "text/html": [
       "<div>\n",
       "<style scoped>\n",
       "    .dataframe tbody tr th:only-of-type {\n",
       "        vertical-align: middle;\n",
       "    }\n",
       "\n",
       "    .dataframe tbody tr th {\n",
       "        vertical-align: top;\n",
       "    }\n",
       "\n",
       "    .dataframe thead th {\n",
       "        text-align: right;\n",
       "    }\n",
       "</style>\n",
       "<table border=\"1\" class=\"dataframe\">\n",
       "  <thead>\n",
       "    <tr style=\"text-align: right;\">\n",
       "      <th></th>\n",
       "      <th>titles</th>\n",
       "      <th>abstracts</th>\n",
       "      <th>authors</th>\n",
       "      <th>keywords</th>\n",
       "      <th>sources</th>\n",
       "      <th>dates</th>\n",
       "      <th>num_sents</th>\n",
       "      <th>num_words</th>\n",
       "      <th>ext_textrank</th>\n",
       "      <th>ext_bertsum</th>\n",
       "    </tr>\n",
       "  </thead>\n",
       "  <tbody>\n",
       "    <tr>\n",
       "      <th>0</th>\n",
       "      <td>Examining the social and biophysical determina...</td>\n",
       "      <td>Precision agricultural technologies (PA) such ...</td>\n",
       "      <td>[Gardezi, Maaz, Bronson, Kelly]</td>\n",
       "      <td>[corn, farmers, financial economics, food prod...</td>\n",
       "      <td>Precision agriculture</td>\n",
       "      <td>2020</td>\n",
       "      <td>6</td>\n",
       "      <td>198</td>\n",
       "      <td>The specific objective of this study is to exa...</td>\n",
       "      <td>Precision agricultural technologies (PA) such ...</td>\n",
       "    </tr>\n",
       "    <tr>\n",
       "      <th>1</th>\n",
       "      <td>Wireless Sensor Network Synchronization for Pr...</td>\n",
       "      <td>The advent of Internet of Things has propelled...</td>\n",
       "      <td>[Zervopoulos, Alexandros, Tsipis, Athanasios, ...</td>\n",
       "      <td>[Olea europaea, decision making, environmental...</td>\n",
       "      <td>Agriculture (Basel)</td>\n",
       "      <td>2020</td>\n",
       "      <td>9</td>\n",
       "      <td>197</td>\n",
       "      <td>For example, a need for network synchronizatio...</td>\n",
       "      <td>The advent of Internet of Things has propelled...</td>\n",
       "    </tr>\n",
       "    <tr>\n",
       "      <th>2</th>\n",
       "      <td>Smartphone Applications Targeting Precision Ag...</td>\n",
       "      <td>Traditionally farmers have used their perceptu...</td>\n",
       "      <td>[Mendes, Jorge, Pinho, Tatiana  M., Neves dos ...</td>\n",
       "      <td>[cost effectiveness, crops, farmers, humans, m...</td>\n",
       "      <td>Agronomy</td>\n",
       "      <td>2020</td>\n",
       "      <td>9</td>\n",
       "      <td>216</td>\n",
       "      <td>Also, this paper is an important resource to h...</td>\n",
       "      <td>Traditionally farmers have used their perceptu...</td>\n",
       "    </tr>\n",
       "    <tr>\n",
       "      <th>3</th>\n",
       "      <td>Controlled release micronutrient fertilizers f...</td>\n",
       "      <td>The rapid growth of the global population and ...</td>\n",
       "      <td>[Mikula, Katarzyna, Izydorczyk, Grzegorz, Skrz...</td>\n",
       "      <td>[coatings, farmers, food safety, groundwater, ...</td>\n",
       "      <td>The Science of the total environment</td>\n",
       "      <td>2020</td>\n",
       "      <td>8</td>\n",
       "      <td>159</td>\n",
       "      <td>The paper presents new fertilization technolog...</td>\n",
       "      <td>The rapid growth of the global population and ...</td>\n",
       "    </tr>\n",
       "    <tr>\n",
       "      <th>4</th>\n",
       "      <td>Farm adoption of embodied knowledge and inform...</td>\n",
       "      <td>On-farm adoption of individual and groups of p...</td>\n",
       "      <td>[Miller, N. J., Griffin, T. W., Ciampitti, I. ...</td>\n",
       "      <td>[farms, precision agriculture, probability, Ka...</td>\n",
       "      <td>Precision agriculture</td>\n",
       "      <td>2019</td>\n",
       "      <td>6</td>\n",
       "      <td>152</td>\n",
       "      <td>Each analysis was estimated for two separate t...</td>\n",
       "      <td>On-farm adoption of individual and groups of p...</td>\n",
       "    </tr>\n",
       "    <tr>\n",
       "      <th>...</th>\n",
       "      <td>...</td>\n",
       "      <td>...</td>\n",
       "      <td>...</td>\n",
       "      <td>...</td>\n",
       "      <td>...</td>\n",
       "      <td>...</td>\n",
       "      <td>...</td>\n",
       "      <td>...</td>\n",
       "      <td>...</td>\n",
       "      <td>...</td>\n",
       "    </tr>\n",
       "    <tr>\n",
       "      <th>95</th>\n",
       "      <td>Golf course superintendents’ knowledge of vari...</td>\n",
       "      <td>Golf course superintendent’s knowledge of vari...</td>\n",
       "      <td>[Straw, Chase M., Wardrop, William S., Horgan,...</td>\n",
       "      <td>[case studies, geographic information systems,...</td>\n",
       "      <td>Precision agriculture</td>\n",
       "      <td>2020</td>\n",
       "      <td>10</td>\n",
       "      <td>247</td>\n",
       "      <td>This case study used a qualitative GIS approac...</td>\n",
       "      <td>Golf course superintendent’s knowledge of vari...</td>\n",
       "    </tr>\n",
       "    <tr>\n",
       "      <th>96</th>\n",
       "      <td>Performance evaluation of automatic vis-à-vis ...</td>\n",
       "      <td>Laser land levelling has contributed immensely...</td>\n",
       "      <td>[Manpreet-Singh,, Sidhu, Harminder S., Yadvind...</td>\n",
       "      <td>[cost effectiveness, energy use and consumptio...</td>\n",
       "      <td>Precision agriculture</td>\n",
       "      <td>2020</td>\n",
       "      <td>13</td>\n",
       "      <td>267</td>\n",
       "      <td>The automatic survey method significantly redu...</td>\n",
       "      <td>Laser land levelling has contributed immensely...</td>\n",
       "    </tr>\n",
       "    <tr>\n",
       "      <th>97</th>\n",
       "      <td>Agricultural cyber-physical system enabled for...</td>\n",
       "      <td>Recently, several works have been focused on d...</td>\n",
       "      <td>[Selmani, Abdelouahed, Oubehar, Hassan, Outano...</td>\n",
       "      <td>[case studies, greenhouses, irrigation managem...</td>\n",
       "      <td>Biosystems engineering</td>\n",
       "      <td>2019</td>\n",
       "      <td>9</td>\n",
       "      <td>195</td>\n",
       "      <td>Therefore, a variety of ACPSs has been develop...</td>\n",
       "      <td>Recently, several works have been focused on d...</td>\n",
       "    </tr>\n",
       "    <tr>\n",
       "      <th>98</th>\n",
       "      <td>Precision conservation meets precision agricul...</td>\n",
       "      <td>Meeting future food demands for 9 billion peop...</td>\n",
       "      <td>[Capmourteres, Virginia, Adams, Justin, Berg, ...</td>\n",
       "      <td>[agricultural land, biodiversity, case studies...</td>\n",
       "      <td>Agricultural systems</td>\n",
       "      <td>2018</td>\n",
       "      <td>8</td>\n",
       "      <td>240</td>\n",
       "      <td>We argue that profit mapping can serve as a ma...</td>\n",
       "      <td>Meeting future food demands for 9 billion peop...</td>\n",
       "    </tr>\n",
       "    <tr>\n",
       "      <th>99</th>\n",
       "      <td>Long-term impact of a precision agriculture sy...</td>\n",
       "      <td>Research is lacking on the long-term impacts o...</td>\n",
       "      <td>[Yost, M. A., Kitchen, N. R., Sudduth, K. A., ...</td>\n",
       "      <td>[Glycine max, Triticum aestivum, Zea mays, can...</td>\n",
       "      <td>Precision agriculture</td>\n",
       "      <td>2017</td>\n",
       "      <td>10</td>\n",
       "      <td>258</td>\n",
       "      <td>Therefore, the greatest production advantage o...</td>\n",
       "      <td>Research is lacking on the long-term impacts o...</td>\n",
       "    </tr>\n",
       "  </tbody>\n",
       "</table>\n",
       "<p>100 rows × 10 columns</p>\n",
       "</div>"
      ],
      "text/plain": [
       "                                               titles  ...                                        ext_bertsum\n",
       "0   Examining the social and biophysical determina...  ...  Precision agricultural technologies (PA) such ...\n",
       "1   Wireless Sensor Network Synchronization for Pr...  ...  The advent of Internet of Things has propelled...\n",
       "2   Smartphone Applications Targeting Precision Ag...  ...  Traditionally farmers have used their perceptu...\n",
       "3   Controlled release micronutrient fertilizers f...  ...  The rapid growth of the global population and ...\n",
       "4   Farm adoption of embodied knowledge and inform...  ...  On-farm adoption of individual and groups of p...\n",
       "..                                                ...  ...                                                ...\n",
       "95  Golf course superintendents’ knowledge of vari...  ...  Golf course superintendent’s knowledge of vari...\n",
       "96  Performance evaluation of automatic vis-à-vis ...  ...  Laser land levelling has contributed immensely...\n",
       "97  Agricultural cyber-physical system enabled for...  ...  Recently, several works have been focused on d...\n",
       "98  Precision conservation meets precision agricul...  ...  Meeting future food demands for 9 billion peop...\n",
       "99  Long-term impact of a precision agriculture sy...  ...  Research is lacking on the long-term impacts o...\n",
       "\n",
       "[100 rows x 10 columns]"
      ]
     },
     "execution_count": 45,
     "metadata": {
      "tags": []
     },
     "output_type": "execute_result"
    }
   ],
   "source": [
    "df"
   ]
  },
  {
   "cell_type": "markdown",
   "metadata": {
    "id": "LT_7IYUBKTxR"
   },
   "source": [
    "## Abstractive_BART"
   ]
  },
  {
   "cell_type": "code",
   "execution_count": null,
   "metadata": {
    "colab": {
     "base_uri": "https://localhost:8080/"
    },
    "executionInfo": {
     "elapsed": 4814,
     "status": "ok",
     "timestamp": 1621190974596,
     "user": {
      "displayName": "Appanna M P",
      "photoUrl": "",
      "userId": "15798677300444359000"
     },
     "user_tz": -120
    },
    "id": "Zyirtqke1A2o",
    "outputId": "8ae64d1e-2114-48a2-c6e2-74ae96743ad4"
   },
   "outputs": [
    {
     "name": "stdout",
     "output_type": "stream",
     "text": [
      "Requirement already satisfied: transformers in /usr/local/lib/python3.7/dist-packages (4.6.0)\n",
      "Requirement already satisfied: numpy>=1.17 in /usr/local/lib/python3.7/dist-packages (from transformers) (1.19.5)\n",
      "Requirement already satisfied: packaging in /usr/local/lib/python3.7/dist-packages (from transformers) (20.9)\n",
      "Requirement already satisfied: sacremoses in /usr/local/lib/python3.7/dist-packages (from transformers) (0.0.45)\n",
      "Requirement already satisfied: requests in /usr/local/lib/python3.7/dist-packages (from transformers) (2.23.0)\n",
      "Requirement already satisfied: regex!=2019.12.17 in /usr/local/lib/python3.7/dist-packages (from transformers) (2019.12.20)\n",
      "Requirement already satisfied: tqdm>=4.27 in /usr/local/lib/python3.7/dist-packages (from transformers) (4.41.1)\n",
      "Requirement already satisfied: huggingface-hub==0.0.8 in /usr/local/lib/python3.7/dist-packages (from transformers) (0.0.8)\n",
      "Requirement already satisfied: importlib-metadata; python_version < \"3.8\" in /usr/local/lib/python3.7/dist-packages (from transformers) (4.0.1)\n",
      "Requirement already satisfied: filelock in /usr/local/lib/python3.7/dist-packages (from transformers) (3.0.12)\n",
      "Requirement already satisfied: tokenizers<0.11,>=0.10.1 in /usr/local/lib/python3.7/dist-packages (from transformers) (0.10.2)\n",
      "Requirement already satisfied: pyparsing>=2.0.2 in /usr/local/lib/python3.7/dist-packages (from packaging->transformers) (2.4.7)\n",
      "Requirement already satisfied: click in /usr/local/lib/python3.7/dist-packages (from sacremoses->transformers) (8.0.0)\n",
      "Requirement already satisfied: joblib in /usr/local/lib/python3.7/dist-packages (from sacremoses->transformers) (1.0.1)\n",
      "Requirement already satisfied: six in /usr/local/lib/python3.7/dist-packages (from sacremoses->transformers) (1.15.0)\n",
      "Requirement already satisfied: certifi>=2017.4.17 in /usr/local/lib/python3.7/dist-packages (from requests->transformers) (2020.12.5)\n",
      "Requirement already satisfied: chardet<4,>=3.0.2 in /usr/local/lib/python3.7/dist-packages (from requests->transformers) (3.0.4)\n",
      "Requirement already satisfied: idna<3,>=2.5 in /usr/local/lib/python3.7/dist-packages (from requests->transformers) (2.10)\n",
      "Requirement already satisfied: urllib3!=1.25.0,!=1.25.1,<1.26,>=1.21.1 in /usr/local/lib/python3.7/dist-packages (from requests->transformers) (1.24.3)\n",
      "Requirement already satisfied: typing-extensions>=3.6.4; python_version < \"3.8\" in /usr/local/lib/python3.7/dist-packages (from importlib-metadata; python_version < \"3.8\"->transformers) (3.7.4.3)\n",
      "Requirement already satisfied: zipp>=0.5 in /usr/local/lib/python3.7/dist-packages (from importlib-metadata; python_version < \"3.8\"->transformers) (3.4.1)\n"
     ]
    }
   ],
   "source": [
    "!pip install transformers # have to use '!' for installing packages in Colab\n",
    "from transformers import pipeline\n"
   ]
  },
  {
   "cell_type": "code",
   "execution_count": null,
   "metadata": {
    "colab": {
     "base_uri": "https://localhost:8080/"
    },
    "executionInfo": {
     "elapsed": 32957,
     "status": "ok",
     "timestamp": 1621191002756,
     "user": {
      "displayName": "Appanna M P",
      "photoUrl": "",
      "userId": "15798677300444359000"
     },
     "user_tz": -120
    },
    "id": "Oc5IBXC36HX4",
    "outputId": "071f765b-5d09-47d2-cf51-b0d5a7c399b2"
   },
   "outputs": [
    {
     "name": "stdout",
     "output_type": "stream",
     "text": [
      "CPU times: user 3.86 s, sys: 4.1 s, total: 7.96 s\n",
      "Wall time: 28.4 s\n"
     ]
    }
   ],
   "source": [
    "%%time\n",
    "## Wall time 29 secs\n",
    "summarizer_bart = pipeline(\"summarization\") #Uses BART-large CNN model"
   ]
  },
  {
   "cell_type": "code",
   "execution_count": null,
   "metadata": {
    "id": "xNnHvSffLmJ8"
   },
   "outputs": [],
   "source": [
    "## Setting to use the 0th GPU\n",
    "os.environ[\"CUDA_VISIBLE_DEVICES\"] = \"0\" "
   ]
  },
  {
   "cell_type": "code",
   "execution_count": null,
   "metadata": {
    "colab": {
     "base_uri": "https://localhost:8080/"
    },
    "executionInfo": {
     "elapsed": 44279,
     "status": "ok",
     "timestamp": 1621191014101,
     "user": {
      "displayName": "Appanna M P",
      "photoUrl": "",
      "userId": "15798677300444359000"
     },
     "user_tz": -120
    },
    "id": "UwQbGpgiKa0r",
    "outputId": "2a0372d6-2969-429c-84e3-79852a16ff0a"
   },
   "outputs": [
    {
     "name": "stdout",
     "output_type": "stream",
     "text": [
      " Precision agricultural technologies (PA) such as global positioning system tools have been commercially available since the early 1990s . But adoption studies show uneven adoption among farmers in the U.S. and Europe . This study aims to tackle a lingering puzzle regarding why some farmers adopt precision agriculture .\n",
      "CPU times: user 10.9 s, sys: 398 ms, total: 11.3 s\n",
      "Wall time: 11.3 s\n"
     ]
    }
   ],
   "source": [
    "#Run summarization on 1 abstract\n",
    "#Wall time: 7.28 s\n",
    "%%time \n",
    "text=df['abstracts'][0]\n",
    "\n",
    "summary_text = summarizer_bart(text, max_length=100, min_length=5, do_sample=False)[0]['summary_text']\n",
    "print(summary_text)"
   ]
  },
  {
   "cell_type": "code",
   "execution_count": null,
   "metadata": {
    "id": "I5OSmo7fLGBc"
   },
   "outputs": [],
   "source": [
    "#function to apply for full dataframe\n",
    "def summ(text):\n",
    "    summary_text = summarizer_bart(text, max_length=100, min_length=5, do_sample=False)[0]['summary_text']\n",
    "    return summary_text\n",
    "#df=abstract_df.head(100)"
   ]
  },
  {
   "cell_type": "code",
   "execution_count": null,
   "metadata": {
    "colab": {
     "base_uri": "https://localhost:8080/"
    },
    "executionInfo": {
     "elapsed": 1230883,
     "status": "ok",
     "timestamp": 1621192200724,
     "user": {
      "displayName": "Appanna M P",
      "photoUrl": "",
      "userId": "15798677300444359000"
     },
     "user_tz": -120
    },
    "id": "6tbF-jEzL5Ob",
    "outputId": "8ae6b135-03f7-4d58-9d37-875415d3d16b"
   },
   "outputs": [
    {
     "name": "stderr",
     "output_type": "stream",
     "text": [
      "Your max_length is set to 100, but you input_length is only 57. You might consider decreasing max_length manually, e.g. summarizer('...', max_length=50)\n"
     ]
    },
    {
     "name": "stdout",
     "output_type": "stream",
     "text": [
      "CPU times: user 19min 19s, sys: 33 s, total: 19min 52s\n",
      "Wall time: 19min 46s\n"
     ]
    },
    {
     "name": "stderr",
     "output_type": "stream",
     "text": [
      "/usr/local/lib/python3.7/dist-packages/ipykernel_launcher.py:7: SettingWithCopyWarning: \n",
      "A value is trying to be set on a copy of a slice from a DataFrame.\n",
      "Try using .loc[row_indexer,col_indexer] = value instead\n",
      "\n",
      "See the caveats in the documentation: https://pandas.pydata.org/pandas-docs/stable/user_guide/indexing.html#returning-a-view-versus-a-copy\n",
      "  import sys\n"
     ]
    }
   ],
   "source": [
    "%%time\n",
    "### create new column for sliced_abs\n",
    "# Wall time: 38.2 s, 44s for 5 abstracts. Average : ~8s\n",
    "# Wall time: 15min 30s, for 100 abstracts. Average : 9.18s\n",
    "\n",
    "# Time for 10 1m59s\n",
    "#19m46 for 100\n",
    "\n",
    "df['abs_bart'] = df['abstracts'].apply(lambda x: summ(x))\n",
    "\n",
    "# When including the maximum words abstract throws this error:\n",
    "#\"Token indices sequence length is longer than the specified maximum sequence length for this model (3007 > 1024). Running this sequence through the model will result in indexing errors\""
   ]
  },
  {
   "cell_type": "code",
   "execution_count": null,
   "metadata": {
    "colab": {
     "base_uri": "https://localhost:8080/",
     "height": 1000
    },
    "executionInfo": {
     "elapsed": 1230897,
     "status": "ok",
     "timestamp": 1621192200748,
     "user": {
      "displayName": "Appanna M P",
      "photoUrl": "",
      "userId": "15798677300444359000"
     },
     "user_tz": -120
    },
    "id": "UM1ejvj3vEKI",
    "outputId": "497f7c50-6245-4871-ed51-03231c4783d5"
   },
   "outputs": [
    {
     "data": {
      "text/html": [
       "<div>\n",
       "<style scoped>\n",
       "    .dataframe tbody tr th:only-of-type {\n",
       "        vertical-align: middle;\n",
       "    }\n",
       "\n",
       "    .dataframe tbody tr th {\n",
       "        vertical-align: top;\n",
       "    }\n",
       "\n",
       "    .dataframe thead th {\n",
       "        text-align: right;\n",
       "    }\n",
       "</style>\n",
       "<table border=\"1\" class=\"dataframe\">\n",
       "  <thead>\n",
       "    <tr style=\"text-align: right;\">\n",
       "      <th></th>\n",
       "      <th>titles</th>\n",
       "      <th>abstracts</th>\n",
       "      <th>authors</th>\n",
       "      <th>keywords</th>\n",
       "      <th>sources</th>\n",
       "      <th>dates</th>\n",
       "      <th>num_sents</th>\n",
       "      <th>num_words</th>\n",
       "      <th>ext_textrank</th>\n",
       "      <th>ext_bertsum</th>\n",
       "      <th>abs_bart</th>\n",
       "    </tr>\n",
       "  </thead>\n",
       "  <tbody>\n",
       "    <tr>\n",
       "      <th>0</th>\n",
       "      <td>Examining the social and biophysical determina...</td>\n",
       "      <td>Precision agricultural technologies (PA) such ...</td>\n",
       "      <td>[Gardezi, Maaz, Bronson, Kelly]</td>\n",
       "      <td>[corn, farmers, financial economics, food prod...</td>\n",
       "      <td>Precision agriculture</td>\n",
       "      <td>2020</td>\n",
       "      <td>6</td>\n",
       "      <td>198</td>\n",
       "      <td>The specific objective of this study is to exa...</td>\n",
       "      <td>Precision agricultural technologies (PA) such ...</td>\n",
       "      <td>Precision agricultural technologies (PA) such...</td>\n",
       "    </tr>\n",
       "    <tr>\n",
       "      <th>1</th>\n",
       "      <td>Wireless Sensor Network Synchronization for Pr...</td>\n",
       "      <td>The advent of Internet of Things has propelled...</td>\n",
       "      <td>[Zervopoulos, Alexandros, Tsipis, Athanasios, ...</td>\n",
       "      <td>[Olea europaea, decision making, environmental...</td>\n",
       "      <td>Agriculture (Basel)</td>\n",
       "      <td>2020</td>\n",
       "      <td>9</td>\n",
       "      <td>197</td>\n",
       "      <td>For example, a need for network synchronizatio...</td>\n",
       "      <td>The advent of Internet of Things has propelled...</td>\n",
       "      <td>Wireless Sensor Networks (WSNs) allow real ti...</td>\n",
       "    </tr>\n",
       "    <tr>\n",
       "      <th>2</th>\n",
       "      <td>Smartphone Applications Targeting Precision Ag...</td>\n",
       "      <td>Traditionally farmers have used their perceptu...</td>\n",
       "      <td>[Mendes, Jorge, Pinho, Tatiana  M., Neves dos ...</td>\n",
       "      <td>[cost effectiveness, crops, farmers, humans, m...</td>\n",
       "      <td>Agronomy</td>\n",
       "      <td>2020</td>\n",
       "      <td>9</td>\n",
       "      <td>216</td>\n",
       "      <td>Also, this paper is an important resource to h...</td>\n",
       "      <td>Traditionally farmers have used their perceptu...</td>\n",
       "      <td>In the last decade, with the help of the emer...</td>\n",
       "    </tr>\n",
       "    <tr>\n",
       "      <th>3</th>\n",
       "      <td>Controlled release micronutrient fertilizers f...</td>\n",
       "      <td>The rapid growth of the global population and ...</td>\n",
       "      <td>[Mikula, Katarzyna, Izydorczyk, Grzegorz, Skrz...</td>\n",
       "      <td>[coatings, farmers, food safety, groundwater, ...</td>\n",
       "      <td>The Science of the total environment</td>\n",
       "      <td>2020</td>\n",
       "      <td>8</td>\n",
       "      <td>159</td>\n",
       "      <td>The paper presents new fertilization technolog...</td>\n",
       "      <td>The rapid growth of the global population and ...</td>\n",
       "      <td>The rapid growth of the global population and...</td>\n",
       "    </tr>\n",
       "    <tr>\n",
       "      <th>4</th>\n",
       "      <td>Farm adoption of embodied knowledge and inform...</td>\n",
       "      <td>On-farm adoption of individual and groups of p...</td>\n",
       "      <td>[Miller, N. J., Griffin, T. W., Ciampitti, I. ...</td>\n",
       "      <td>[farms, precision agriculture, probability, Ka...</td>\n",
       "      <td>Precision agriculture</td>\n",
       "      <td>2019</td>\n",
       "      <td>6</td>\n",
       "      <td>152</td>\n",
       "      <td>Each analysis was estimated for two separate t...</td>\n",
       "      <td>On-farm adoption of individual and groups of p...</td>\n",
       "      <td>Based on a sample of 545 farm observations co...</td>\n",
       "    </tr>\n",
       "    <tr>\n",
       "      <th>...</th>\n",
       "      <td>...</td>\n",
       "      <td>...</td>\n",
       "      <td>...</td>\n",
       "      <td>...</td>\n",
       "      <td>...</td>\n",
       "      <td>...</td>\n",
       "      <td>...</td>\n",
       "      <td>...</td>\n",
       "      <td>...</td>\n",
       "      <td>...</td>\n",
       "      <td>...</td>\n",
       "    </tr>\n",
       "    <tr>\n",
       "      <th>95</th>\n",
       "      <td>Golf course superintendents’ knowledge of vari...</td>\n",
       "      <td>Golf course superintendent’s knowledge of vari...</td>\n",
       "      <td>[Straw, Chase M., Wardrop, William S., Horgan,...</td>\n",
       "      <td>[case studies, geographic information systems,...</td>\n",
       "      <td>Precision agriculture</td>\n",
       "      <td>2020</td>\n",
       "      <td>10</td>\n",
       "      <td>247</td>\n",
       "      <td>This case study used a qualitative GIS approac...</td>\n",
       "      <td>Golf course superintendent’s knowledge of vari...</td>\n",
       "      <td>Golf course superintendent’s knowledge of var...</td>\n",
       "    </tr>\n",
       "    <tr>\n",
       "      <th>96</th>\n",
       "      <td>Performance evaluation of automatic vis-à-vis ...</td>\n",
       "      <td>Laser land levelling has contributed immensely...</td>\n",
       "      <td>[Manpreet-Singh,, Sidhu, Harminder S., Yadvind...</td>\n",
       "      <td>[cost effectiveness, energy use and consumptio...</td>\n",
       "      <td>Precision agriculture</td>\n",
       "      <td>2020</td>\n",
       "      <td>13</td>\n",
       "      <td>267</td>\n",
       "      <td>The automatic survey method significantly redu...</td>\n",
       "      <td>Laser land levelling has contributed immensely...</td>\n",
       "      <td>A sensor-based automatic topographic survey i...</td>\n",
       "    </tr>\n",
       "    <tr>\n",
       "      <th>97</th>\n",
       "      <td>Agricultural cyber-physical system enabled for...</td>\n",
       "      <td>Recently, several works have been focused on d...</td>\n",
       "      <td>[Selmani, Abdelouahed, Oubehar, Hassan, Outano...</td>\n",
       "      <td>[case studies, greenhouses, irrigation managem...</td>\n",
       "      <td>Biosystems engineering</td>\n",
       "      <td>2019</td>\n",
       "      <td>9</td>\n",
       "      <td>195</td>\n",
       "      <td>Therefore, a variety of ACPSs has been develop...</td>\n",
       "      <td>Recently, several works have been focused on d...</td>\n",
       "      <td>The distributed architecture is based on the ...</td>\n",
       "    </tr>\n",
       "    <tr>\n",
       "      <th>98</th>\n",
       "      <td>Precision conservation meets precision agricul...</td>\n",
       "      <td>Meeting future food demands for 9 billion peop...</td>\n",
       "      <td>[Capmourteres, Virginia, Adams, Justin, Berg, ...</td>\n",
       "      <td>[agricultural land, biodiversity, case studies...</td>\n",
       "      <td>Agricultural systems</td>\n",
       "      <td>2018</td>\n",
       "      <td>8</td>\n",
       "      <td>240</td>\n",
       "      <td>We argue that profit mapping can serve as a ma...</td>\n",
       "      <td>Meeting future food demands for 9 billion peop...</td>\n",
       "      <td>Meeting future food demands for 9 billion peo...</td>\n",
       "    </tr>\n",
       "    <tr>\n",
       "      <th>99</th>\n",
       "      <td>Long-term impact of a precision agriculture sy...</td>\n",
       "      <td>Research is lacking on the long-term impacts o...</td>\n",
       "      <td>[Yost, M. A., Kitchen, N. R., Sudduth, K. A., ...</td>\n",
       "      <td>[Glycine max, Triticum aestivum, Zea mays, can...</td>\n",
       "      <td>Precision agriculture</td>\n",
       "      <td>2017</td>\n",
       "      <td>10</td>\n",
       "      <td>258</td>\n",
       "      <td>Therefore, the greatest production advantage o...</td>\n",
       "      <td>Research is lacking on the long-term impacts o...</td>\n",
       "      <td>A ‘precision agriculture system’ (PAS) was im...</td>\n",
       "    </tr>\n",
       "  </tbody>\n",
       "</table>\n",
       "<p>100 rows × 11 columns</p>\n",
       "</div>"
      ],
      "text/plain": [
       "                                               titles  ...                                           abs_bart\n",
       "0   Examining the social and biophysical determina...  ...   Precision agricultural technologies (PA) such...\n",
       "1   Wireless Sensor Network Synchronization for Pr...  ...   Wireless Sensor Networks (WSNs) allow real ti...\n",
       "2   Smartphone Applications Targeting Precision Ag...  ...   In the last decade, with the help of the emer...\n",
       "3   Controlled release micronutrient fertilizers f...  ...   The rapid growth of the global population and...\n",
       "4   Farm adoption of embodied knowledge and inform...  ...   Based on a sample of 545 farm observations co...\n",
       "..                                                ...  ...                                                ...\n",
       "95  Golf course superintendents’ knowledge of vari...  ...   Golf course superintendent’s knowledge of var...\n",
       "96  Performance evaluation of automatic vis-à-vis ...  ...   A sensor-based automatic topographic survey i...\n",
       "97  Agricultural cyber-physical system enabled for...  ...   The distributed architecture is based on the ...\n",
       "98  Precision conservation meets precision agricul...  ...   Meeting future food demands for 9 billion peo...\n",
       "99  Long-term impact of a precision agriculture sy...  ...   A ‘precision agriculture system’ (PAS) was im...\n",
       "\n",
       "[100 rows x 11 columns]"
      ]
     },
     "execution_count": 52,
     "metadata": {
      "tags": []
     },
     "output_type": "execute_result"
    }
   ],
   "source": [
    "df"
   ]
  },
  {
   "cell_type": "markdown",
   "metadata": {
    "id": "fM0IqmvkS6Hc"
   },
   "source": [
    "## Abstractive_T5"
   ]
  },
  {
   "cell_type": "code",
   "execution_count": null,
   "metadata": {
    "id": "M1c1HB8ES78d"
   },
   "outputs": [],
   "source": [
    "summarizer_t5 = pipeline(\"summarization\", model=\"t5-base\", tokenizer=\"t5-base\",framework=\"pt\") #framework pt so that pytorch"
   ]
  },
  {
   "cell_type": "code",
   "execution_count": null,
   "metadata": {
    "colab": {
     "base_uri": "https://localhost:8080/"
    },
    "executionInfo": {
     "elapsed": 30791,
     "status": "ok",
     "timestamp": 1621192253006,
     "user": {
      "displayName": "Appanna M P",
      "photoUrl": "",
      "userId": "15798677300444359000"
     },
     "user_tz": -120
    },
    "id": "ave_jb6WiDCj",
    "outputId": "0b9af11c-fa52-42c3-a9c4-fec076c298f8"
   },
   "outputs": [
    {
     "name": "stdout",
     "output_type": "stream",
     "text": [
      "adoption studies show uneven adoption among farmers in the U.S. and Europe . this study aims to tackle a lingering puzzle regarding why some farmers adopt precision agriculture as an approach to food production .\n",
      "CPU times: user 9.43 s, sys: 347 ms, total: 9.77 s\n",
      "Wall time: 9.73 s\n"
     ]
    }
   ],
   "source": [
    "%%time\n",
    "#Test with single abstracts. Note the increased time for inference and uncaps of starting words\n",
    "#Time for 1st abstrat 11.7\n",
    "text=df['abstracts'][0]\n",
    "\n",
    "summary_text = summarizer_t5(text, max_length=100, min_length=5, do_sample=False)[0]['summary_text']\n",
    "print(summary_text)"
   ]
  },
  {
   "cell_type": "code",
   "execution_count": null,
   "metadata": {
    "id": "jkG8JZG7iNgU"
   },
   "outputs": [],
   "source": [
    "#function to apply for full dataframe\n",
    "def summ_t5(text):\n",
    "    summary_text = summarizer_t5(text, max_length=100, min_length=5, do_sample=False)[0]['summary_text']\n",
    "    return summary_text\n",
    "    #print(summary_text)"
   ]
  },
  {
   "cell_type": "code",
   "execution_count": null,
   "metadata": {
    "colab": {
     "base_uri": "https://localhost:8080/",
     "height": 565
    },
    "executionInfo": {
     "elapsed": 1504860,
     "status": "error",
     "timestamp": 1621193727119,
     "user": {
      "displayName": "Appanna M P",
      "photoUrl": "",
      "userId": "15798677300444359000"
     },
     "user_tz": -120
    },
    "id": "KYS6VxaeiQC4",
    "outputId": "6de28b24-7a52-4026-f2a8-eb4cba342e89"
   },
   "outputs": [
    {
     "name": "stderr",
     "output_type": "stream",
     "text": [
      "Token indices sequence length is longer than the specified maximum sequence length for this model (520 > 512). Running this sequence through the model will result in indexing errors\n",
      "Your max_length is set to 100, but you input_length is only 59. You might consider decreasing max_length manually, e.g. summarizer('...', max_length=50)\n"
     ]
    },
    {
     "ename": "KeyboardInterrupt",
     "evalue": "ignored",
     "output_type": "error",
     "traceback": [
      "\u001b[0;31m---------------------------------------------------------------------------\u001b[0m",
      "\u001b[0;31mKeyboardInterrupt\u001b[0m                         Traceback (most recent call last)",
      "\u001b[0;32m<ipython-input-56-491cb5199766>\u001b[0m in \u001b[0;36m<module>\u001b[0;34m()\u001b[0m\n\u001b[0;32m----> 1\u001b[0;31m \u001b[0mget_ipython\u001b[0m\u001b[0;34m(\u001b[0m\u001b[0;34m)\u001b[0m\u001b[0;34m.\u001b[0m\u001b[0mrun_cell_magic\u001b[0m\u001b[0;34m(\u001b[0m\u001b[0;34m'time'\u001b[0m\u001b[0;34m,\u001b[0m \u001b[0;34m''\u001b[0m\u001b[0;34m,\u001b[0m \u001b[0;34m'#time for 100 abstracts, 25min 24s . This translates to 15.24 secs per abstract.\\n#time for 10 abs, 2min 19. Translates to 13.9 s per abs\\n#Time for 10 abs 2m30. \\n\\ndf[\\'abs_t5\\'] = df[\\'abstracts\\'].apply(lambda x: summ_t5(x))\\n\\n# When including the maximum words abstract throws this error:\\n# \"Token indices sequence length is longer than the specified maximum sequence length for this model (3442 > 512). Running this sequence through the model will result in indexing errors\"'\u001b[0m\u001b[0;34m)\u001b[0m\u001b[0;34m\u001b[0m\u001b[0;34m\u001b[0m\u001b[0m\n\u001b[0m",
      "\u001b[0;32m/usr/local/lib/python3.7/dist-packages/IPython/core/interactiveshell.py\u001b[0m in \u001b[0;36mrun_cell_magic\u001b[0;34m(self, magic_name, line, cell)\u001b[0m\n\u001b[1;32m   2115\u001b[0m             \u001b[0mmagic_arg_s\u001b[0m \u001b[0;34m=\u001b[0m \u001b[0mself\u001b[0m\u001b[0;34m.\u001b[0m\u001b[0mvar_expand\u001b[0m\u001b[0;34m(\u001b[0m\u001b[0mline\u001b[0m\u001b[0;34m,\u001b[0m \u001b[0mstack_depth\u001b[0m\u001b[0;34m)\u001b[0m\u001b[0;34m\u001b[0m\u001b[0;34m\u001b[0m\u001b[0m\n\u001b[1;32m   2116\u001b[0m             \u001b[0;32mwith\u001b[0m \u001b[0mself\u001b[0m\u001b[0;34m.\u001b[0m\u001b[0mbuiltin_trap\u001b[0m\u001b[0;34m:\u001b[0m\u001b[0;34m\u001b[0m\u001b[0;34m\u001b[0m\u001b[0m\n\u001b[0;32m-> 2117\u001b[0;31m                 \u001b[0mresult\u001b[0m \u001b[0;34m=\u001b[0m \u001b[0mfn\u001b[0m\u001b[0;34m(\u001b[0m\u001b[0mmagic_arg_s\u001b[0m\u001b[0;34m,\u001b[0m \u001b[0mcell\u001b[0m\u001b[0;34m)\u001b[0m\u001b[0;34m\u001b[0m\u001b[0;34m\u001b[0m\u001b[0m\n\u001b[0m\u001b[1;32m   2118\u001b[0m             \u001b[0;32mreturn\u001b[0m \u001b[0mresult\u001b[0m\u001b[0;34m\u001b[0m\u001b[0;34m\u001b[0m\u001b[0m\n\u001b[1;32m   2119\u001b[0m \u001b[0;34m\u001b[0m\u001b[0m\n",
      "\u001b[0;32m<decorator-gen-53>\u001b[0m in \u001b[0;36mtime\u001b[0;34m(self, line, cell, local_ns)\u001b[0m\n",
      "\u001b[0;32m/usr/local/lib/python3.7/dist-packages/IPython/core/magic.py\u001b[0m in \u001b[0;36m<lambda>\u001b[0;34m(f, *a, **k)\u001b[0m\n\u001b[1;32m    186\u001b[0m     \u001b[0;31m# but it's overkill for just that one bit of state.\u001b[0m\u001b[0;34m\u001b[0m\u001b[0;34m\u001b[0m\u001b[0;34m\u001b[0m\u001b[0m\n\u001b[1;32m    187\u001b[0m     \u001b[0;32mdef\u001b[0m \u001b[0mmagic_deco\u001b[0m\u001b[0;34m(\u001b[0m\u001b[0marg\u001b[0m\u001b[0;34m)\u001b[0m\u001b[0;34m:\u001b[0m\u001b[0;34m\u001b[0m\u001b[0;34m\u001b[0m\u001b[0m\n\u001b[0;32m--> 188\u001b[0;31m         \u001b[0mcall\u001b[0m \u001b[0;34m=\u001b[0m \u001b[0;32mlambda\u001b[0m \u001b[0mf\u001b[0m\u001b[0;34m,\u001b[0m \u001b[0;34m*\u001b[0m\u001b[0ma\u001b[0m\u001b[0;34m,\u001b[0m \u001b[0;34m**\u001b[0m\u001b[0mk\u001b[0m\u001b[0;34m:\u001b[0m \u001b[0mf\u001b[0m\u001b[0;34m(\u001b[0m\u001b[0;34m*\u001b[0m\u001b[0ma\u001b[0m\u001b[0;34m,\u001b[0m \u001b[0;34m**\u001b[0m\u001b[0mk\u001b[0m\u001b[0;34m)\u001b[0m\u001b[0;34m\u001b[0m\u001b[0;34m\u001b[0m\u001b[0m\n\u001b[0m\u001b[1;32m    189\u001b[0m \u001b[0;34m\u001b[0m\u001b[0m\n\u001b[1;32m    190\u001b[0m         \u001b[0;32mif\u001b[0m \u001b[0mcallable\u001b[0m\u001b[0;34m(\u001b[0m\u001b[0marg\u001b[0m\u001b[0;34m)\u001b[0m\u001b[0;34m:\u001b[0m\u001b[0;34m\u001b[0m\u001b[0;34m\u001b[0m\u001b[0m\n",
      "\u001b[0;32m/usr/local/lib/python3.7/dist-packages/IPython/core/magics/execution.py\u001b[0m in \u001b[0;36mtime\u001b[0;34m(self, line, cell, local_ns)\u001b[0m\n\u001b[1;32m   1191\u001b[0m         \u001b[0;32melse\u001b[0m\u001b[0;34m:\u001b[0m\u001b[0;34m\u001b[0m\u001b[0;34m\u001b[0m\u001b[0m\n\u001b[1;32m   1192\u001b[0m             \u001b[0mst\u001b[0m \u001b[0;34m=\u001b[0m \u001b[0mclock2\u001b[0m\u001b[0;34m(\u001b[0m\u001b[0;34m)\u001b[0m\u001b[0;34m\u001b[0m\u001b[0;34m\u001b[0m\u001b[0m\n\u001b[0;32m-> 1193\u001b[0;31m             \u001b[0mexec\u001b[0m\u001b[0;34m(\u001b[0m\u001b[0mcode\u001b[0m\u001b[0;34m,\u001b[0m \u001b[0mglob\u001b[0m\u001b[0;34m,\u001b[0m \u001b[0mlocal_ns\u001b[0m\u001b[0;34m)\u001b[0m\u001b[0;34m\u001b[0m\u001b[0;34m\u001b[0m\u001b[0m\n\u001b[0m\u001b[1;32m   1194\u001b[0m             \u001b[0mend\u001b[0m \u001b[0;34m=\u001b[0m \u001b[0mclock2\u001b[0m\u001b[0;34m(\u001b[0m\u001b[0;34m)\u001b[0m\u001b[0;34m\u001b[0m\u001b[0;34m\u001b[0m\u001b[0m\n\u001b[1;32m   1195\u001b[0m             \u001b[0mout\u001b[0m \u001b[0;34m=\u001b[0m \u001b[0;32mNone\u001b[0m\u001b[0;34m\u001b[0m\u001b[0;34m\u001b[0m\u001b[0m\n",
      "\u001b[0;32m<timed exec>\u001b[0m in \u001b[0;36m<module>\u001b[0;34m()\u001b[0m\n",
      "\u001b[0;32m/usr/local/lib/python3.7/dist-packages/pandas/core/series.py\u001b[0m in \u001b[0;36mapply\u001b[0;34m(self, func, convert_dtype, args, **kwds)\u001b[0m\n\u001b[1;32m   4211\u001b[0m             \u001b[0;32melse\u001b[0m\u001b[0;34m:\u001b[0m\u001b[0;34m\u001b[0m\u001b[0;34m\u001b[0m\u001b[0m\n\u001b[1;32m   4212\u001b[0m                 \u001b[0mvalues\u001b[0m \u001b[0;34m=\u001b[0m \u001b[0mself\u001b[0m\u001b[0;34m.\u001b[0m\u001b[0mastype\u001b[0m\u001b[0;34m(\u001b[0m\u001b[0mobject\u001b[0m\u001b[0;34m)\u001b[0m\u001b[0;34m.\u001b[0m\u001b[0m_values\u001b[0m\u001b[0;34m\u001b[0m\u001b[0;34m\u001b[0m\u001b[0m\n\u001b[0;32m-> 4213\u001b[0;31m                 \u001b[0mmapped\u001b[0m \u001b[0;34m=\u001b[0m \u001b[0mlib\u001b[0m\u001b[0;34m.\u001b[0m\u001b[0mmap_infer\u001b[0m\u001b[0;34m(\u001b[0m\u001b[0mvalues\u001b[0m\u001b[0;34m,\u001b[0m \u001b[0mf\u001b[0m\u001b[0;34m,\u001b[0m \u001b[0mconvert\u001b[0m\u001b[0;34m=\u001b[0m\u001b[0mconvert_dtype\u001b[0m\u001b[0;34m)\u001b[0m\u001b[0;34m\u001b[0m\u001b[0;34m\u001b[0m\u001b[0m\n\u001b[0m\u001b[1;32m   4214\u001b[0m \u001b[0;34m\u001b[0m\u001b[0m\n\u001b[1;32m   4215\u001b[0m         \u001b[0;32mif\u001b[0m \u001b[0mlen\u001b[0m\u001b[0;34m(\u001b[0m\u001b[0mmapped\u001b[0m\u001b[0;34m)\u001b[0m \u001b[0;32mand\u001b[0m \u001b[0misinstance\u001b[0m\u001b[0;34m(\u001b[0m\u001b[0mmapped\u001b[0m\u001b[0;34m[\u001b[0m\u001b[0;36m0\u001b[0m\u001b[0;34m]\u001b[0m\u001b[0;34m,\u001b[0m \u001b[0mSeries\u001b[0m\u001b[0;34m)\u001b[0m\u001b[0;34m:\u001b[0m\u001b[0;34m\u001b[0m\u001b[0;34m\u001b[0m\u001b[0m\n",
      "\u001b[0;32mpandas/_libs/lib.pyx\u001b[0m in \u001b[0;36mpandas._libs.lib.map_infer\u001b[0;34m()\u001b[0m\n",
      "\u001b[0;32m<timed exec>\u001b[0m in \u001b[0;36m<lambda>\u001b[0;34m(x)\u001b[0m\n",
      "\u001b[0;32m<ipython-input-55-eb6e3aacf73e>\u001b[0m in \u001b[0;36msumm_t5\u001b[0;34m(text)\u001b[0m\n\u001b[1;32m      1\u001b[0m \u001b[0;31m#function to apply for full dataframe\u001b[0m\u001b[0;34m\u001b[0m\u001b[0;34m\u001b[0m\u001b[0;34m\u001b[0m\u001b[0m\n\u001b[1;32m      2\u001b[0m \u001b[0;32mdef\u001b[0m \u001b[0msumm_t5\u001b[0m\u001b[0;34m(\u001b[0m\u001b[0mtext\u001b[0m\u001b[0;34m)\u001b[0m\u001b[0;34m:\u001b[0m\u001b[0;34m\u001b[0m\u001b[0;34m\u001b[0m\u001b[0m\n\u001b[0;32m----> 3\u001b[0;31m     \u001b[0msummary_text\u001b[0m \u001b[0;34m=\u001b[0m \u001b[0msummarizer_t5\u001b[0m\u001b[0;34m(\u001b[0m\u001b[0mtext\u001b[0m\u001b[0;34m,\u001b[0m \u001b[0mmax_length\u001b[0m\u001b[0;34m=\u001b[0m\u001b[0;36m100\u001b[0m\u001b[0;34m,\u001b[0m \u001b[0mmin_length\u001b[0m\u001b[0;34m=\u001b[0m\u001b[0;36m5\u001b[0m\u001b[0;34m,\u001b[0m \u001b[0mdo_sample\u001b[0m\u001b[0;34m=\u001b[0m\u001b[0;32mFalse\u001b[0m\u001b[0;34m)\u001b[0m\u001b[0;34m[\u001b[0m\u001b[0;36m0\u001b[0m\u001b[0;34m]\u001b[0m\u001b[0;34m[\u001b[0m\u001b[0;34m'summary_text'\u001b[0m\u001b[0;34m]\u001b[0m\u001b[0;34m\u001b[0m\u001b[0;34m\u001b[0m\u001b[0m\n\u001b[0m\u001b[1;32m      4\u001b[0m     \u001b[0;32mreturn\u001b[0m \u001b[0msummary_text\u001b[0m\u001b[0;34m\u001b[0m\u001b[0;34m\u001b[0m\u001b[0m\n\u001b[1;32m      5\u001b[0m     \u001b[0;31m#print(summary_text)\u001b[0m\u001b[0;34m\u001b[0m\u001b[0;34m\u001b[0m\u001b[0;34m\u001b[0m\u001b[0m\n",
      "\u001b[0;32m/usr/local/lib/python3.7/dist-packages/transformers/pipelines/text2text_generation.py\u001b[0m in \u001b[0;36m__call__\u001b[0;34m(self, *args, **kwargs)\u001b[0m\n\u001b[1;32m    201\u001b[0m               \u001b[0mThe\u001b[0m \u001b[0mtoken\u001b[0m \u001b[0mids\u001b[0m \u001b[0mof\u001b[0m \u001b[0mthe\u001b[0m \u001b[0msummary\u001b[0m\u001b[0;34m.\u001b[0m\u001b[0;34m\u001b[0m\u001b[0;34m\u001b[0m\u001b[0m\n\u001b[1;32m    202\u001b[0m         \"\"\"\n\u001b[0;32m--> 203\u001b[0;31m         \u001b[0;32mreturn\u001b[0m \u001b[0msuper\u001b[0m\u001b[0;34m(\u001b[0m\u001b[0;34m)\u001b[0m\u001b[0;34m.\u001b[0m\u001b[0m__call__\u001b[0m\u001b[0;34m(\u001b[0m\u001b[0;34m*\u001b[0m\u001b[0margs\u001b[0m\u001b[0;34m,\u001b[0m \u001b[0;34m**\u001b[0m\u001b[0mkwargs\u001b[0m\u001b[0;34m)\u001b[0m\u001b[0;34m\u001b[0m\u001b[0;34m\u001b[0m\u001b[0m\n\u001b[0m\u001b[1;32m    204\u001b[0m \u001b[0;34m\u001b[0m\u001b[0m\n\u001b[1;32m    205\u001b[0m     \u001b[0;32mdef\u001b[0m \u001b[0mcheck_inputs\u001b[0m\u001b[0;34m(\u001b[0m\u001b[0mself\u001b[0m\u001b[0;34m,\u001b[0m \u001b[0minput_length\u001b[0m\u001b[0;34m:\u001b[0m \u001b[0mint\u001b[0m\u001b[0;34m,\u001b[0m \u001b[0mmin_length\u001b[0m\u001b[0;34m:\u001b[0m \u001b[0mint\u001b[0m\u001b[0;34m,\u001b[0m \u001b[0mmax_length\u001b[0m\u001b[0;34m:\u001b[0m \u001b[0mint\u001b[0m\u001b[0;34m)\u001b[0m \u001b[0;34m->\u001b[0m \u001b[0mbool\u001b[0m\u001b[0;34m:\u001b[0m\u001b[0;34m\u001b[0m\u001b[0;34m\u001b[0m\u001b[0m\n",
      "\u001b[0;32m/usr/local/lib/python3.7/dist-packages/transformers/pipelines/text2text_generation.py\u001b[0m in \u001b[0;36m__call__\u001b[0;34m(self, return_tensors, return_text, clean_up_tokenization_spaces, truncation, *args, **generate_kwargs)\u001b[0m\n\u001b[1;32m    115\u001b[0m         \u001b[0;32mwith\u001b[0m \u001b[0mself\u001b[0m\u001b[0;34m.\u001b[0m\u001b[0mdevice_placement\u001b[0m\u001b[0;34m(\u001b[0m\u001b[0;34m)\u001b[0m\u001b[0;34m:\u001b[0m\u001b[0;34m\u001b[0m\u001b[0;34m\u001b[0m\u001b[0m\n\u001b[1;32m    116\u001b[0m             \u001b[0minputs\u001b[0m \u001b[0;34m=\u001b[0m \u001b[0mself\u001b[0m\u001b[0;34m.\u001b[0m\u001b[0m_parse_and_tokenize\u001b[0m\u001b[0;34m(\u001b[0m\u001b[0;34m*\u001b[0m\u001b[0margs\u001b[0m\u001b[0;34m,\u001b[0m \u001b[0mtruncation\u001b[0m\u001b[0;34m=\u001b[0m\u001b[0mtruncation\u001b[0m\u001b[0;34m)\u001b[0m\u001b[0;34m\u001b[0m\u001b[0;34m\u001b[0m\u001b[0m\n\u001b[0;32m--> 117\u001b[0;31m             \u001b[0;32mreturn\u001b[0m \u001b[0mself\u001b[0m\u001b[0;34m.\u001b[0m\u001b[0m_generate\u001b[0m\u001b[0;34m(\u001b[0m\u001b[0minputs\u001b[0m\u001b[0;34m,\u001b[0m \u001b[0mreturn_tensors\u001b[0m\u001b[0;34m,\u001b[0m \u001b[0mreturn_text\u001b[0m\u001b[0;34m,\u001b[0m \u001b[0mclean_up_tokenization_spaces\u001b[0m\u001b[0;34m,\u001b[0m \u001b[0mgenerate_kwargs\u001b[0m\u001b[0;34m)\u001b[0m\u001b[0;34m\u001b[0m\u001b[0;34m\u001b[0m\u001b[0m\n\u001b[0m\u001b[1;32m    118\u001b[0m \u001b[0;34m\u001b[0m\u001b[0m\n\u001b[1;32m    119\u001b[0m     def _generate(\n",
      "\u001b[0;32m/usr/local/lib/python3.7/dist-packages/transformers/pipelines/text2text_generation.py\u001b[0m in \u001b[0;36m_generate\u001b[0;34m(self, inputs, return_tensors, return_text, clean_up_tokenization_spaces, generate_kwargs)\u001b[0m\n\u001b[1;32m    133\u001b[0m \u001b[0;34m\u001b[0m\u001b[0m\n\u001b[1;32m    134\u001b[0m         generations = self.model.generate(\n\u001b[0;32m--> 135\u001b[0;31m             \u001b[0;34m**\u001b[0m\u001b[0mgenerate_kwargs\u001b[0m\u001b[0;34m,\u001b[0m\u001b[0;34m\u001b[0m\u001b[0;34m\u001b[0m\u001b[0m\n\u001b[0m\u001b[1;32m    136\u001b[0m         )\n\u001b[1;32m    137\u001b[0m         \u001b[0mresults\u001b[0m \u001b[0;34m=\u001b[0m \u001b[0;34m[\u001b[0m\u001b[0;34m]\u001b[0m\u001b[0;34m\u001b[0m\u001b[0;34m\u001b[0m\u001b[0m\n",
      "\u001b[0;32m/usr/local/lib/python3.7/dist-packages/torch/autograd/grad_mode.py\u001b[0m in \u001b[0;36mdecorate_context\u001b[0;34m(*args, **kwargs)\u001b[0m\n\u001b[1;32m     25\u001b[0m         \u001b[0;32mdef\u001b[0m \u001b[0mdecorate_context\u001b[0m\u001b[0;34m(\u001b[0m\u001b[0;34m*\u001b[0m\u001b[0margs\u001b[0m\u001b[0;34m,\u001b[0m \u001b[0;34m**\u001b[0m\u001b[0mkwargs\u001b[0m\u001b[0;34m)\u001b[0m\u001b[0;34m:\u001b[0m\u001b[0;34m\u001b[0m\u001b[0;34m\u001b[0m\u001b[0m\n\u001b[1;32m     26\u001b[0m             \u001b[0;32mwith\u001b[0m \u001b[0mself\u001b[0m\u001b[0;34m.\u001b[0m\u001b[0m__class__\u001b[0m\u001b[0;34m(\u001b[0m\u001b[0;34m)\u001b[0m\u001b[0;34m:\u001b[0m\u001b[0;34m\u001b[0m\u001b[0;34m\u001b[0m\u001b[0m\n\u001b[0;32m---> 27\u001b[0;31m                 \u001b[0;32mreturn\u001b[0m \u001b[0mfunc\u001b[0m\u001b[0;34m(\u001b[0m\u001b[0;34m*\u001b[0m\u001b[0margs\u001b[0m\u001b[0;34m,\u001b[0m \u001b[0;34m**\u001b[0m\u001b[0mkwargs\u001b[0m\u001b[0;34m)\u001b[0m\u001b[0;34m\u001b[0m\u001b[0;34m\u001b[0m\u001b[0m\n\u001b[0m\u001b[1;32m     28\u001b[0m         \u001b[0;32mreturn\u001b[0m \u001b[0mcast\u001b[0m\u001b[0;34m(\u001b[0m\u001b[0mF\u001b[0m\u001b[0;34m,\u001b[0m \u001b[0mdecorate_context\u001b[0m\u001b[0;34m)\u001b[0m\u001b[0;34m\u001b[0m\u001b[0;34m\u001b[0m\u001b[0m\n\u001b[1;32m     29\u001b[0m \u001b[0;34m\u001b[0m\u001b[0m\n",
      "\u001b[0;32m/usr/local/lib/python3.7/dist-packages/transformers/generation_utils.py\u001b[0m in \u001b[0;36mgenerate\u001b[0;34m(self, input_ids, max_length, min_length, do_sample, early_stopping, num_beams, temperature, top_k, top_p, repetition_penalty, bad_words_ids, bos_token_id, pad_token_id, eos_token_id, length_penalty, no_repeat_ngram_size, encoder_no_repeat_ngram_size, num_return_sequences, max_time, decoder_start_token_id, use_cache, num_beam_groups, diversity_penalty, prefix_allowed_tokens_fn, output_attentions, output_hidden_states, output_scores, return_dict_in_generate, forced_bos_token_id, forced_eos_token_id, remove_invalid_values, synced_gpus, **model_kwargs)\u001b[0m\n\u001b[1;32m   1042\u001b[0m                 \u001b[0mreturn_dict_in_generate\u001b[0m\u001b[0;34m=\u001b[0m\u001b[0mreturn_dict_in_generate\u001b[0m\u001b[0;34m,\u001b[0m\u001b[0;34m\u001b[0m\u001b[0;34m\u001b[0m\u001b[0m\n\u001b[1;32m   1043\u001b[0m                 \u001b[0msynced_gpus\u001b[0m\u001b[0;34m=\u001b[0m\u001b[0msynced_gpus\u001b[0m\u001b[0;34m,\u001b[0m\u001b[0;34m\u001b[0m\u001b[0;34m\u001b[0m\u001b[0m\n\u001b[0;32m-> 1044\u001b[0;31m                 \u001b[0;34m**\u001b[0m\u001b[0mmodel_kwargs\u001b[0m\u001b[0;34m,\u001b[0m\u001b[0;34m\u001b[0m\u001b[0;34m\u001b[0m\u001b[0m\n\u001b[0m\u001b[1;32m   1045\u001b[0m             )\n\u001b[1;32m   1046\u001b[0m \u001b[0;34m\u001b[0m\u001b[0m\n",
      "\u001b[0;32m/usr/local/lib/python3.7/dist-packages/transformers/generation_utils.py\u001b[0m in \u001b[0;36mbeam_search\u001b[0;34m(self, input_ids, beam_scorer, logits_processor, stopping_criteria, max_length, pad_token_id, eos_token_id, output_attentions, output_hidden_states, output_scores, return_dict_in_generate, synced_gpus, **model_kwargs)\u001b[0m\n\u001b[1;32m   1773\u001b[0m                 \u001b[0mreturn_dict\u001b[0m\u001b[0;34m=\u001b[0m\u001b[0;32mTrue\u001b[0m\u001b[0;34m,\u001b[0m\u001b[0;34m\u001b[0m\u001b[0;34m\u001b[0m\u001b[0m\n\u001b[1;32m   1774\u001b[0m                 \u001b[0moutput_attentions\u001b[0m\u001b[0;34m=\u001b[0m\u001b[0moutput_attentions\u001b[0m\u001b[0;34m,\u001b[0m\u001b[0;34m\u001b[0m\u001b[0;34m\u001b[0m\u001b[0m\n\u001b[0;32m-> 1775\u001b[0;31m                 \u001b[0moutput_hidden_states\u001b[0m\u001b[0;34m=\u001b[0m\u001b[0moutput_hidden_states\u001b[0m\u001b[0;34m,\u001b[0m\u001b[0;34m\u001b[0m\u001b[0;34m\u001b[0m\u001b[0m\n\u001b[0m\u001b[1;32m   1776\u001b[0m             )\n\u001b[1;32m   1777\u001b[0m \u001b[0;34m\u001b[0m\u001b[0m\n",
      "\u001b[0;32m/usr/local/lib/python3.7/dist-packages/torch/nn/modules/module.py\u001b[0m in \u001b[0;36m_call_impl\u001b[0;34m(self, *input, **kwargs)\u001b[0m\n\u001b[1;32m    887\u001b[0m             \u001b[0mresult\u001b[0m \u001b[0;34m=\u001b[0m \u001b[0mself\u001b[0m\u001b[0;34m.\u001b[0m\u001b[0m_slow_forward\u001b[0m\u001b[0;34m(\u001b[0m\u001b[0;34m*\u001b[0m\u001b[0minput\u001b[0m\u001b[0;34m,\u001b[0m \u001b[0;34m**\u001b[0m\u001b[0mkwargs\u001b[0m\u001b[0;34m)\u001b[0m\u001b[0;34m\u001b[0m\u001b[0;34m\u001b[0m\u001b[0m\n\u001b[1;32m    888\u001b[0m         \u001b[0;32melse\u001b[0m\u001b[0;34m:\u001b[0m\u001b[0;34m\u001b[0m\u001b[0;34m\u001b[0m\u001b[0m\n\u001b[0;32m--> 889\u001b[0;31m             \u001b[0mresult\u001b[0m \u001b[0;34m=\u001b[0m \u001b[0mself\u001b[0m\u001b[0;34m.\u001b[0m\u001b[0mforward\u001b[0m\u001b[0;34m(\u001b[0m\u001b[0;34m*\u001b[0m\u001b[0minput\u001b[0m\u001b[0;34m,\u001b[0m \u001b[0;34m**\u001b[0m\u001b[0mkwargs\u001b[0m\u001b[0;34m)\u001b[0m\u001b[0;34m\u001b[0m\u001b[0;34m\u001b[0m\u001b[0m\n\u001b[0m\u001b[1;32m    890\u001b[0m         for hook in itertools.chain(\n\u001b[1;32m    891\u001b[0m                 \u001b[0m_global_forward_hooks\u001b[0m\u001b[0;34m.\u001b[0m\u001b[0mvalues\u001b[0m\u001b[0;34m(\u001b[0m\u001b[0;34m)\u001b[0m\u001b[0;34m,\u001b[0m\u001b[0;34m\u001b[0m\u001b[0;34m\u001b[0m\u001b[0m\n",
      "\u001b[0;32m/usr/local/lib/python3.7/dist-packages/transformers/models/t5/modeling_t5.py\u001b[0m in \u001b[0;36mforward\u001b[0;34m(self, input_ids, attention_mask, decoder_input_ids, decoder_attention_mask, head_mask, decoder_head_mask, cross_attn_head_mask, encoder_outputs, past_key_values, inputs_embeds, decoder_inputs_embeds, labels, use_cache, output_attentions, output_hidden_states, return_dict)\u001b[0m\n\u001b[1;32m   1603\u001b[0m             \u001b[0moutput_attentions\u001b[0m\u001b[0;34m=\u001b[0m\u001b[0moutput_attentions\u001b[0m\u001b[0;34m,\u001b[0m\u001b[0;34m\u001b[0m\u001b[0;34m\u001b[0m\u001b[0m\n\u001b[1;32m   1604\u001b[0m             \u001b[0moutput_hidden_states\u001b[0m\u001b[0;34m=\u001b[0m\u001b[0moutput_hidden_states\u001b[0m\u001b[0;34m,\u001b[0m\u001b[0;34m\u001b[0m\u001b[0;34m\u001b[0m\u001b[0m\n\u001b[0;32m-> 1605\u001b[0;31m             \u001b[0mreturn_dict\u001b[0m\u001b[0;34m=\u001b[0m\u001b[0mreturn_dict\u001b[0m\u001b[0;34m,\u001b[0m\u001b[0;34m\u001b[0m\u001b[0;34m\u001b[0m\u001b[0m\n\u001b[0m\u001b[1;32m   1606\u001b[0m         )\n\u001b[1;32m   1607\u001b[0m \u001b[0;34m\u001b[0m\u001b[0m\n",
      "\u001b[0;32m/usr/local/lib/python3.7/dist-packages/torch/nn/modules/module.py\u001b[0m in \u001b[0;36m_call_impl\u001b[0;34m(self, *input, **kwargs)\u001b[0m\n\u001b[1;32m    887\u001b[0m             \u001b[0mresult\u001b[0m \u001b[0;34m=\u001b[0m \u001b[0mself\u001b[0m\u001b[0;34m.\u001b[0m\u001b[0m_slow_forward\u001b[0m\u001b[0;34m(\u001b[0m\u001b[0;34m*\u001b[0m\u001b[0minput\u001b[0m\u001b[0;34m,\u001b[0m \u001b[0;34m**\u001b[0m\u001b[0mkwargs\u001b[0m\u001b[0;34m)\u001b[0m\u001b[0;34m\u001b[0m\u001b[0;34m\u001b[0m\u001b[0m\n\u001b[1;32m    888\u001b[0m         \u001b[0;32melse\u001b[0m\u001b[0;34m:\u001b[0m\u001b[0;34m\u001b[0m\u001b[0;34m\u001b[0m\u001b[0m\n\u001b[0;32m--> 889\u001b[0;31m             \u001b[0mresult\u001b[0m \u001b[0;34m=\u001b[0m \u001b[0mself\u001b[0m\u001b[0;34m.\u001b[0m\u001b[0mforward\u001b[0m\u001b[0;34m(\u001b[0m\u001b[0;34m*\u001b[0m\u001b[0minput\u001b[0m\u001b[0;34m,\u001b[0m \u001b[0;34m**\u001b[0m\u001b[0mkwargs\u001b[0m\u001b[0;34m)\u001b[0m\u001b[0;34m\u001b[0m\u001b[0;34m\u001b[0m\u001b[0m\n\u001b[0m\u001b[1;32m    890\u001b[0m         for hook in itertools.chain(\n\u001b[1;32m    891\u001b[0m                 \u001b[0m_global_forward_hooks\u001b[0m\u001b[0;34m.\u001b[0m\u001b[0mvalues\u001b[0m\u001b[0;34m(\u001b[0m\u001b[0;34m)\u001b[0m\u001b[0;34m,\u001b[0m\u001b[0;34m\u001b[0m\u001b[0;34m\u001b[0m\u001b[0m\n",
      "\u001b[0;32m/usr/local/lib/python3.7/dist-packages/transformers/models/t5/modeling_t5.py\u001b[0m in \u001b[0;36mforward\u001b[0;34m(self, input_ids, attention_mask, encoder_hidden_states, encoder_attention_mask, inputs_embeds, head_mask, cross_attn_head_mask, past_key_values, use_cache, output_attentions, output_hidden_states, return_dict)\u001b[0m\n\u001b[1;32m    994\u001b[0m                     \u001b[0mpast_key_value\u001b[0m\u001b[0;34m=\u001b[0m\u001b[0mpast_key_value\u001b[0m\u001b[0;34m,\u001b[0m\u001b[0;34m\u001b[0m\u001b[0;34m\u001b[0m\u001b[0m\n\u001b[1;32m    995\u001b[0m                     \u001b[0muse_cache\u001b[0m\u001b[0;34m=\u001b[0m\u001b[0muse_cache\u001b[0m\u001b[0;34m,\u001b[0m\u001b[0;34m\u001b[0m\u001b[0;34m\u001b[0m\u001b[0m\n\u001b[0;32m--> 996\u001b[0;31m                     \u001b[0moutput_attentions\u001b[0m\u001b[0;34m=\u001b[0m\u001b[0moutput_attentions\u001b[0m\u001b[0;34m,\u001b[0m\u001b[0;34m\u001b[0m\u001b[0;34m\u001b[0m\u001b[0m\n\u001b[0m\u001b[1;32m    997\u001b[0m                 )\n\u001b[1;32m    998\u001b[0m \u001b[0;34m\u001b[0m\u001b[0m\n",
      "\u001b[0;32m/usr/local/lib/python3.7/dist-packages/torch/nn/modules/module.py\u001b[0m in \u001b[0;36m_call_impl\u001b[0;34m(self, *input, **kwargs)\u001b[0m\n\u001b[1;32m    887\u001b[0m             \u001b[0mresult\u001b[0m \u001b[0;34m=\u001b[0m \u001b[0mself\u001b[0m\u001b[0;34m.\u001b[0m\u001b[0m_slow_forward\u001b[0m\u001b[0;34m(\u001b[0m\u001b[0;34m*\u001b[0m\u001b[0minput\u001b[0m\u001b[0;34m,\u001b[0m \u001b[0;34m**\u001b[0m\u001b[0mkwargs\u001b[0m\u001b[0;34m)\u001b[0m\u001b[0;34m\u001b[0m\u001b[0;34m\u001b[0m\u001b[0m\n\u001b[1;32m    888\u001b[0m         \u001b[0;32melse\u001b[0m\u001b[0;34m:\u001b[0m\u001b[0;34m\u001b[0m\u001b[0;34m\u001b[0m\u001b[0m\n\u001b[0;32m--> 889\u001b[0;31m             \u001b[0mresult\u001b[0m \u001b[0;34m=\u001b[0m \u001b[0mself\u001b[0m\u001b[0;34m.\u001b[0m\u001b[0mforward\u001b[0m\u001b[0;34m(\u001b[0m\u001b[0;34m*\u001b[0m\u001b[0minput\u001b[0m\u001b[0;34m,\u001b[0m \u001b[0;34m**\u001b[0m\u001b[0mkwargs\u001b[0m\u001b[0;34m)\u001b[0m\u001b[0;34m\u001b[0m\u001b[0;34m\u001b[0m\u001b[0m\n\u001b[0m\u001b[1;32m    890\u001b[0m         for hook in itertools.chain(\n\u001b[1;32m    891\u001b[0m                 \u001b[0m_global_forward_hooks\u001b[0m\u001b[0;34m.\u001b[0m\u001b[0mvalues\u001b[0m\u001b[0;34m(\u001b[0m\u001b[0;34m)\u001b[0m\u001b[0;34m,\u001b[0m\u001b[0;34m\u001b[0m\u001b[0;34m\u001b[0m\u001b[0m\n",
      "\u001b[0;32m/usr/local/lib/python3.7/dist-packages/transformers/models/t5/modeling_t5.py\u001b[0m in \u001b[0;36mforward\u001b[0;34m(self, hidden_states, attention_mask, position_bias, encoder_hidden_states, encoder_attention_mask, encoder_decoder_position_bias, layer_head_mask, cross_attn_layer_head_mask, past_key_value, use_cache, output_attentions, return_dict)\u001b[0m\n\u001b[1;32m    642\u001b[0m             \u001b[0mpast_key_value\u001b[0m\u001b[0;34m=\u001b[0m\u001b[0mself_attn_past_key_value\u001b[0m\u001b[0;34m,\u001b[0m\u001b[0;34m\u001b[0m\u001b[0;34m\u001b[0m\u001b[0m\n\u001b[1;32m    643\u001b[0m             \u001b[0muse_cache\u001b[0m\u001b[0;34m=\u001b[0m\u001b[0muse_cache\u001b[0m\u001b[0;34m,\u001b[0m\u001b[0;34m\u001b[0m\u001b[0;34m\u001b[0m\u001b[0m\n\u001b[0;32m--> 644\u001b[0;31m             \u001b[0moutput_attentions\u001b[0m\u001b[0;34m=\u001b[0m\u001b[0moutput_attentions\u001b[0m\u001b[0;34m,\u001b[0m\u001b[0;34m\u001b[0m\u001b[0;34m\u001b[0m\u001b[0m\n\u001b[0m\u001b[1;32m    645\u001b[0m         )\n\u001b[1;32m    646\u001b[0m         \u001b[0mhidden_states\u001b[0m\u001b[0;34m,\u001b[0m \u001b[0mpresent_key_value_state\u001b[0m \u001b[0;34m=\u001b[0m \u001b[0mself_attention_outputs\u001b[0m\u001b[0;34m[\u001b[0m\u001b[0;34m:\u001b[0m\u001b[0;36m2\u001b[0m\u001b[0;34m]\u001b[0m\u001b[0;34m\u001b[0m\u001b[0;34m\u001b[0m\u001b[0m\n",
      "\u001b[0;32m/usr/local/lib/python3.7/dist-packages/torch/nn/modules/module.py\u001b[0m in \u001b[0;36m_call_impl\u001b[0;34m(self, *input, **kwargs)\u001b[0m\n\u001b[1;32m    887\u001b[0m             \u001b[0mresult\u001b[0m \u001b[0;34m=\u001b[0m \u001b[0mself\u001b[0m\u001b[0;34m.\u001b[0m\u001b[0m_slow_forward\u001b[0m\u001b[0;34m(\u001b[0m\u001b[0;34m*\u001b[0m\u001b[0minput\u001b[0m\u001b[0;34m,\u001b[0m \u001b[0;34m**\u001b[0m\u001b[0mkwargs\u001b[0m\u001b[0;34m)\u001b[0m\u001b[0;34m\u001b[0m\u001b[0;34m\u001b[0m\u001b[0m\n\u001b[1;32m    888\u001b[0m         \u001b[0;32melse\u001b[0m\u001b[0;34m:\u001b[0m\u001b[0;34m\u001b[0m\u001b[0;34m\u001b[0m\u001b[0m\n\u001b[0;32m--> 889\u001b[0;31m             \u001b[0mresult\u001b[0m \u001b[0;34m=\u001b[0m \u001b[0mself\u001b[0m\u001b[0;34m.\u001b[0m\u001b[0mforward\u001b[0m\u001b[0;34m(\u001b[0m\u001b[0;34m*\u001b[0m\u001b[0minput\u001b[0m\u001b[0;34m,\u001b[0m \u001b[0;34m**\u001b[0m\u001b[0mkwargs\u001b[0m\u001b[0;34m)\u001b[0m\u001b[0;34m\u001b[0m\u001b[0;34m\u001b[0m\u001b[0m\n\u001b[0m\u001b[1;32m    890\u001b[0m         for hook in itertools.chain(\n\u001b[1;32m    891\u001b[0m                 \u001b[0m_global_forward_hooks\u001b[0m\u001b[0;34m.\u001b[0m\u001b[0mvalues\u001b[0m\u001b[0;34m(\u001b[0m\u001b[0;34m)\u001b[0m\u001b[0;34m,\u001b[0m\u001b[0;34m\u001b[0m\u001b[0;34m\u001b[0m\u001b[0m\n",
      "\u001b[0;32m/usr/local/lib/python3.7/dist-packages/transformers/models/t5/modeling_t5.py\u001b[0m in \u001b[0;36mforward\u001b[0;34m(self, hidden_states, attention_mask, position_bias, layer_head_mask, past_key_value, use_cache, output_attentions)\u001b[0m\n\u001b[1;32m    549\u001b[0m             \u001b[0mpast_key_value\u001b[0m\u001b[0;34m=\u001b[0m\u001b[0mpast_key_value\u001b[0m\u001b[0;34m,\u001b[0m\u001b[0;34m\u001b[0m\u001b[0;34m\u001b[0m\u001b[0m\n\u001b[1;32m    550\u001b[0m             \u001b[0muse_cache\u001b[0m\u001b[0;34m=\u001b[0m\u001b[0muse_cache\u001b[0m\u001b[0;34m,\u001b[0m\u001b[0;34m\u001b[0m\u001b[0;34m\u001b[0m\u001b[0m\n\u001b[0;32m--> 551\u001b[0;31m             \u001b[0moutput_attentions\u001b[0m\u001b[0;34m=\u001b[0m\u001b[0moutput_attentions\u001b[0m\u001b[0;34m,\u001b[0m\u001b[0;34m\u001b[0m\u001b[0;34m\u001b[0m\u001b[0m\n\u001b[0m\u001b[1;32m    552\u001b[0m         )\n\u001b[1;32m    553\u001b[0m         \u001b[0mhidden_states\u001b[0m \u001b[0;34m=\u001b[0m \u001b[0mhidden_states\u001b[0m \u001b[0;34m+\u001b[0m \u001b[0mself\u001b[0m\u001b[0;34m.\u001b[0m\u001b[0mdropout\u001b[0m\u001b[0;34m(\u001b[0m\u001b[0mattention_output\u001b[0m\u001b[0;34m[\u001b[0m\u001b[0;36m0\u001b[0m\u001b[0;34m]\u001b[0m\u001b[0;34m)\u001b[0m\u001b[0;34m\u001b[0m\u001b[0;34m\u001b[0m\u001b[0m\n",
      "\u001b[0;32m/usr/local/lib/python3.7/dist-packages/torch/nn/modules/module.py\u001b[0m in \u001b[0;36m_call_impl\u001b[0;34m(self, *input, **kwargs)\u001b[0m\n\u001b[1;32m    887\u001b[0m             \u001b[0mresult\u001b[0m \u001b[0;34m=\u001b[0m \u001b[0mself\u001b[0m\u001b[0;34m.\u001b[0m\u001b[0m_slow_forward\u001b[0m\u001b[0;34m(\u001b[0m\u001b[0;34m*\u001b[0m\u001b[0minput\u001b[0m\u001b[0;34m,\u001b[0m \u001b[0;34m**\u001b[0m\u001b[0mkwargs\u001b[0m\u001b[0;34m)\u001b[0m\u001b[0;34m\u001b[0m\u001b[0;34m\u001b[0m\u001b[0m\n\u001b[1;32m    888\u001b[0m         \u001b[0;32melse\u001b[0m\u001b[0;34m:\u001b[0m\u001b[0;34m\u001b[0m\u001b[0;34m\u001b[0m\u001b[0m\n\u001b[0;32m--> 889\u001b[0;31m             \u001b[0mresult\u001b[0m \u001b[0;34m=\u001b[0m \u001b[0mself\u001b[0m\u001b[0;34m.\u001b[0m\u001b[0mforward\u001b[0m\u001b[0;34m(\u001b[0m\u001b[0;34m*\u001b[0m\u001b[0minput\u001b[0m\u001b[0;34m,\u001b[0m \u001b[0;34m**\u001b[0m\u001b[0mkwargs\u001b[0m\u001b[0;34m)\u001b[0m\u001b[0;34m\u001b[0m\u001b[0;34m\u001b[0m\u001b[0m\n\u001b[0m\u001b[1;32m    890\u001b[0m         for hook in itertools.chain(\n\u001b[1;32m    891\u001b[0m                 \u001b[0m_global_forward_hooks\u001b[0m\u001b[0;34m.\u001b[0m\u001b[0mvalues\u001b[0m\u001b[0;34m(\u001b[0m\u001b[0;34m)\u001b[0m\u001b[0;34m,\u001b[0m\u001b[0;34m\u001b[0m\u001b[0;34m\u001b[0m\u001b[0m\n",
      "\u001b[0;32m/usr/local/lib/python3.7/dist-packages/transformers/models/t5/modeling_t5.py\u001b[0m in \u001b[0;36mforward\u001b[0;34m(self, hidden_states, mask, key_value_states, position_bias, past_key_value, layer_head_mask, query_length, use_cache, output_attentions)\u001b[0m\n\u001b[1;32m    472\u001b[0m         \u001b[0;31m# get key/value states\u001b[0m\u001b[0;34m\u001b[0m\u001b[0;34m\u001b[0m\u001b[0;34m\u001b[0m\u001b[0m\n\u001b[1;32m    473\u001b[0m         key_states = project(\n\u001b[0;32m--> 474\u001b[0;31m             \u001b[0mhidden_states\u001b[0m\u001b[0;34m,\u001b[0m \u001b[0mself\u001b[0m\u001b[0;34m.\u001b[0m\u001b[0mk\u001b[0m\u001b[0;34m,\u001b[0m \u001b[0mkey_value_states\u001b[0m\u001b[0;34m,\u001b[0m \u001b[0mpast_key_value\u001b[0m\u001b[0;34m[\u001b[0m\u001b[0;36m0\u001b[0m\u001b[0;34m]\u001b[0m \u001b[0;32mif\u001b[0m \u001b[0mpast_key_value\u001b[0m \u001b[0;32mis\u001b[0m \u001b[0;32mnot\u001b[0m \u001b[0;32mNone\u001b[0m \u001b[0;32melse\u001b[0m \u001b[0;32mNone\u001b[0m\u001b[0;34m\u001b[0m\u001b[0;34m\u001b[0m\u001b[0m\n\u001b[0m\u001b[1;32m    475\u001b[0m         )\n\u001b[1;32m    476\u001b[0m         value_states = project(\n",
      "\u001b[0;32m/usr/local/lib/python3.7/dist-packages/transformers/models/t5/modeling_t5.py\u001b[0m in \u001b[0;36mproject\u001b[0;34m(hidden_states, proj_layer, key_value_states, past_key_value)\u001b[0m\n\u001b[1;32m    451\u001b[0m                 \u001b[0;31m# self-attn\u001b[0m\u001b[0;34m\u001b[0m\u001b[0;34m\u001b[0m\u001b[0;34m\u001b[0m\u001b[0m\n\u001b[1;32m    452\u001b[0m                 \u001b[0;31m# (batch_size, n_heads, seq_length, dim_per_head)\u001b[0m\u001b[0;34m\u001b[0m\u001b[0;34m\u001b[0m\u001b[0;34m\u001b[0m\u001b[0m\n\u001b[0;32m--> 453\u001b[0;31m                 \u001b[0mhidden_states\u001b[0m \u001b[0;34m=\u001b[0m \u001b[0mshape\u001b[0m\u001b[0;34m(\u001b[0m\u001b[0mproj_layer\u001b[0m\u001b[0;34m(\u001b[0m\u001b[0mhidden_states\u001b[0m\u001b[0;34m)\u001b[0m\u001b[0;34m)\u001b[0m\u001b[0;34m\u001b[0m\u001b[0;34m\u001b[0m\u001b[0m\n\u001b[0m\u001b[1;32m    454\u001b[0m             \u001b[0;32melif\u001b[0m \u001b[0mpast_key_value\u001b[0m \u001b[0;32mis\u001b[0m \u001b[0;32mNone\u001b[0m\u001b[0;34m:\u001b[0m\u001b[0;34m\u001b[0m\u001b[0;34m\u001b[0m\u001b[0m\n\u001b[1;32m    455\u001b[0m                 \u001b[0;31m# cross-attn\u001b[0m\u001b[0;34m\u001b[0m\u001b[0;34m\u001b[0m\u001b[0;34m\u001b[0m\u001b[0m\n",
      "\u001b[0;32m/usr/local/lib/python3.7/dist-packages/torch/nn/modules/module.py\u001b[0m in \u001b[0;36m_call_impl\u001b[0;34m(self, *input, **kwargs)\u001b[0m\n\u001b[1;32m    887\u001b[0m             \u001b[0mresult\u001b[0m \u001b[0;34m=\u001b[0m \u001b[0mself\u001b[0m\u001b[0;34m.\u001b[0m\u001b[0m_slow_forward\u001b[0m\u001b[0;34m(\u001b[0m\u001b[0;34m*\u001b[0m\u001b[0minput\u001b[0m\u001b[0;34m,\u001b[0m \u001b[0;34m**\u001b[0m\u001b[0mkwargs\u001b[0m\u001b[0;34m)\u001b[0m\u001b[0;34m\u001b[0m\u001b[0;34m\u001b[0m\u001b[0m\n\u001b[1;32m    888\u001b[0m         \u001b[0;32melse\u001b[0m\u001b[0;34m:\u001b[0m\u001b[0;34m\u001b[0m\u001b[0;34m\u001b[0m\u001b[0m\n\u001b[0;32m--> 889\u001b[0;31m             \u001b[0mresult\u001b[0m \u001b[0;34m=\u001b[0m \u001b[0mself\u001b[0m\u001b[0;34m.\u001b[0m\u001b[0mforward\u001b[0m\u001b[0;34m(\u001b[0m\u001b[0;34m*\u001b[0m\u001b[0minput\u001b[0m\u001b[0;34m,\u001b[0m \u001b[0;34m**\u001b[0m\u001b[0mkwargs\u001b[0m\u001b[0;34m)\u001b[0m\u001b[0;34m\u001b[0m\u001b[0;34m\u001b[0m\u001b[0m\n\u001b[0m\u001b[1;32m    890\u001b[0m         for hook in itertools.chain(\n\u001b[1;32m    891\u001b[0m                 \u001b[0m_global_forward_hooks\u001b[0m\u001b[0;34m.\u001b[0m\u001b[0mvalues\u001b[0m\u001b[0;34m(\u001b[0m\u001b[0;34m)\u001b[0m\u001b[0;34m,\u001b[0m\u001b[0;34m\u001b[0m\u001b[0;34m\u001b[0m\u001b[0m\n",
      "\u001b[0;32m/usr/local/lib/python3.7/dist-packages/torch/nn/modules/linear.py\u001b[0m in \u001b[0;36mforward\u001b[0;34m(self, input)\u001b[0m\n\u001b[1;32m     92\u001b[0m \u001b[0;34m\u001b[0m\u001b[0m\n\u001b[1;32m     93\u001b[0m     \u001b[0;32mdef\u001b[0m \u001b[0mforward\u001b[0m\u001b[0;34m(\u001b[0m\u001b[0mself\u001b[0m\u001b[0;34m,\u001b[0m \u001b[0minput\u001b[0m\u001b[0;34m:\u001b[0m \u001b[0mTensor\u001b[0m\u001b[0;34m)\u001b[0m \u001b[0;34m->\u001b[0m \u001b[0mTensor\u001b[0m\u001b[0;34m:\u001b[0m\u001b[0;34m\u001b[0m\u001b[0;34m\u001b[0m\u001b[0m\n\u001b[0;32m---> 94\u001b[0;31m         \u001b[0;32mreturn\u001b[0m \u001b[0mF\u001b[0m\u001b[0;34m.\u001b[0m\u001b[0mlinear\u001b[0m\u001b[0;34m(\u001b[0m\u001b[0minput\u001b[0m\u001b[0;34m,\u001b[0m \u001b[0mself\u001b[0m\u001b[0;34m.\u001b[0m\u001b[0mweight\u001b[0m\u001b[0;34m,\u001b[0m \u001b[0mself\u001b[0m\u001b[0;34m.\u001b[0m\u001b[0mbias\u001b[0m\u001b[0;34m)\u001b[0m\u001b[0;34m\u001b[0m\u001b[0;34m\u001b[0m\u001b[0m\n\u001b[0m\u001b[1;32m     95\u001b[0m \u001b[0;34m\u001b[0m\u001b[0m\n\u001b[1;32m     96\u001b[0m     \u001b[0;32mdef\u001b[0m \u001b[0mextra_repr\u001b[0m\u001b[0;34m(\u001b[0m\u001b[0mself\u001b[0m\u001b[0;34m)\u001b[0m \u001b[0;34m->\u001b[0m \u001b[0mstr\u001b[0m\u001b[0;34m:\u001b[0m\u001b[0;34m\u001b[0m\u001b[0;34m\u001b[0m\u001b[0m\n",
      "\u001b[0;32m/usr/local/lib/python3.7/dist-packages/torch/nn/functional.py\u001b[0m in \u001b[0;36mlinear\u001b[0;34m(input, weight, bias)\u001b[0m\n\u001b[1;32m   1751\u001b[0m     \u001b[0;32mif\u001b[0m \u001b[0mhas_torch_function_variadic\u001b[0m\u001b[0;34m(\u001b[0m\u001b[0minput\u001b[0m\u001b[0;34m,\u001b[0m \u001b[0mweight\u001b[0m\u001b[0;34m)\u001b[0m\u001b[0;34m:\u001b[0m\u001b[0;34m\u001b[0m\u001b[0;34m\u001b[0m\u001b[0m\n\u001b[1;32m   1752\u001b[0m         \u001b[0;32mreturn\u001b[0m \u001b[0mhandle_torch_function\u001b[0m\u001b[0;34m(\u001b[0m\u001b[0mlinear\u001b[0m\u001b[0;34m,\u001b[0m \u001b[0;34m(\u001b[0m\u001b[0minput\u001b[0m\u001b[0;34m,\u001b[0m \u001b[0mweight\u001b[0m\u001b[0;34m)\u001b[0m\u001b[0;34m,\u001b[0m \u001b[0minput\u001b[0m\u001b[0;34m,\u001b[0m \u001b[0mweight\u001b[0m\u001b[0;34m,\u001b[0m \u001b[0mbias\u001b[0m\u001b[0;34m=\u001b[0m\u001b[0mbias\u001b[0m\u001b[0;34m)\u001b[0m\u001b[0;34m\u001b[0m\u001b[0;34m\u001b[0m\u001b[0m\n\u001b[0;32m-> 1753\u001b[0;31m     \u001b[0;32mreturn\u001b[0m \u001b[0mtorch\u001b[0m\u001b[0;34m.\u001b[0m\u001b[0m_C\u001b[0m\u001b[0;34m.\u001b[0m\u001b[0m_nn\u001b[0m\u001b[0;34m.\u001b[0m\u001b[0mlinear\u001b[0m\u001b[0;34m(\u001b[0m\u001b[0minput\u001b[0m\u001b[0;34m,\u001b[0m \u001b[0mweight\u001b[0m\u001b[0;34m,\u001b[0m \u001b[0mbias\u001b[0m\u001b[0;34m)\u001b[0m\u001b[0;34m\u001b[0m\u001b[0;34m\u001b[0m\u001b[0m\n\u001b[0m\u001b[1;32m   1754\u001b[0m \u001b[0;34m\u001b[0m\u001b[0m\n\u001b[1;32m   1755\u001b[0m \u001b[0;34m\u001b[0m\u001b[0m\n",
      "\u001b[0;31mKeyboardInterrupt\u001b[0m: "
     ]
    }
   ],
   "source": [
    "%%time\n",
    "#time for 100 abstracts, 25min 24s . This translates to 15.24 secs per abstract.\n",
    "#time for 10 abs, 2min 19. Translates to 13.9 s per abs\n",
    "#Time for 10 abs 2m30. \n",
    "\n",
    "df['abs_t5'] = df['abstracts'].apply(lambda x: summ_t5(x))\n",
    "\n",
    "# When including the maximum words abstract throws this error:\n",
    "# \"Token indices sequence length is longer than the specified maximum sequence length for this model (3442 > 512). Running this sequence through the model will result in indexing errors\""
   ]
  },
  {
   "cell_type": "code",
   "execution_count": null,
   "metadata": {
    "colab": {
     "base_uri": "https://localhost:8080/",
     "height": 1000
    },
    "executionInfo": {
     "elapsed": 537,
     "status": "ok",
     "timestamp": 1621194319150,
     "user": {
      "displayName": "Appanna M P",
      "photoUrl": "",
      "userId": "15798677300444359000"
     },
     "user_tz": -120
    },
    "id": "NxL4LOgcvnLh",
    "outputId": "c5c149d1-b5b3-46ee-d71e-feb92892e374"
   },
   "outputs": [
    {
     "data": {
      "text/html": [
       "<div>\n",
       "<style scoped>\n",
       "    .dataframe tbody tr th:only-of-type {\n",
       "        vertical-align: middle;\n",
       "    }\n",
       "\n",
       "    .dataframe tbody tr th {\n",
       "        vertical-align: top;\n",
       "    }\n",
       "\n",
       "    .dataframe thead th {\n",
       "        text-align: right;\n",
       "    }\n",
       "</style>\n",
       "<table border=\"1\" class=\"dataframe\">\n",
       "  <thead>\n",
       "    <tr style=\"text-align: right;\">\n",
       "      <th></th>\n",
       "      <th>titles</th>\n",
       "      <th>abstracts</th>\n",
       "      <th>authors</th>\n",
       "      <th>keywords</th>\n",
       "      <th>sources</th>\n",
       "      <th>dates</th>\n",
       "      <th>num_sents</th>\n",
       "      <th>num_words</th>\n",
       "      <th>ext_textrank</th>\n",
       "      <th>ext_bertsum</th>\n",
       "      <th>abs_bart</th>\n",
       "    </tr>\n",
       "  </thead>\n",
       "  <tbody>\n",
       "    <tr>\n",
       "      <th>0</th>\n",
       "      <td>Examining the social and biophysical determina...</td>\n",
       "      <td>Precision agricultural technologies (PA) such ...</td>\n",
       "      <td>[Gardezi, Maaz, Bronson, Kelly]</td>\n",
       "      <td>[corn, farmers, financial economics, food prod...</td>\n",
       "      <td>Precision agriculture</td>\n",
       "      <td>2020</td>\n",
       "      <td>6</td>\n",
       "      <td>198</td>\n",
       "      <td>The specific objective of this study is to exa...</td>\n",
       "      <td>Precision agricultural technologies (PA) such ...</td>\n",
       "      <td>Precision agricultural technologies (PA) such...</td>\n",
       "    </tr>\n",
       "    <tr>\n",
       "      <th>1</th>\n",
       "      <td>Wireless Sensor Network Synchronization for Pr...</td>\n",
       "      <td>The advent of Internet of Things has propelled...</td>\n",
       "      <td>[Zervopoulos, Alexandros, Tsipis, Athanasios, ...</td>\n",
       "      <td>[Olea europaea, decision making, environmental...</td>\n",
       "      <td>Agriculture (Basel)</td>\n",
       "      <td>2020</td>\n",
       "      <td>9</td>\n",
       "      <td>197</td>\n",
       "      <td>For example, a need for network synchronizatio...</td>\n",
       "      <td>The advent of Internet of Things has propelled...</td>\n",
       "      <td>Wireless Sensor Networks (WSNs) allow real ti...</td>\n",
       "    </tr>\n",
       "    <tr>\n",
       "      <th>2</th>\n",
       "      <td>Smartphone Applications Targeting Precision Ag...</td>\n",
       "      <td>Traditionally farmers have used their perceptu...</td>\n",
       "      <td>[Mendes, Jorge, Pinho, Tatiana  M., Neves dos ...</td>\n",
       "      <td>[cost effectiveness, crops, farmers, humans, m...</td>\n",
       "      <td>Agronomy</td>\n",
       "      <td>2020</td>\n",
       "      <td>9</td>\n",
       "      <td>216</td>\n",
       "      <td>Also, this paper is an important resource to h...</td>\n",
       "      <td>Traditionally farmers have used their perceptu...</td>\n",
       "      <td>In the last decade, with the help of the emer...</td>\n",
       "    </tr>\n",
       "    <tr>\n",
       "      <th>3</th>\n",
       "      <td>Controlled release micronutrient fertilizers f...</td>\n",
       "      <td>The rapid growth of the global population and ...</td>\n",
       "      <td>[Mikula, Katarzyna, Izydorczyk, Grzegorz, Skrz...</td>\n",
       "      <td>[coatings, farmers, food safety, groundwater, ...</td>\n",
       "      <td>The Science of the total environment</td>\n",
       "      <td>2020</td>\n",
       "      <td>8</td>\n",
       "      <td>159</td>\n",
       "      <td>The paper presents new fertilization technolog...</td>\n",
       "      <td>The rapid growth of the global population and ...</td>\n",
       "      <td>The rapid growth of the global population and...</td>\n",
       "    </tr>\n",
       "    <tr>\n",
       "      <th>4</th>\n",
       "      <td>Farm adoption of embodied knowledge and inform...</td>\n",
       "      <td>On-farm adoption of individual and groups of p...</td>\n",
       "      <td>[Miller, N. J., Griffin, T. W., Ciampitti, I. ...</td>\n",
       "      <td>[farms, precision agriculture, probability, Ka...</td>\n",
       "      <td>Precision agriculture</td>\n",
       "      <td>2019</td>\n",
       "      <td>6</td>\n",
       "      <td>152</td>\n",
       "      <td>Each analysis was estimated for two separate t...</td>\n",
       "      <td>On-farm adoption of individual and groups of p...</td>\n",
       "      <td>Based on a sample of 545 farm observations co...</td>\n",
       "    </tr>\n",
       "    <tr>\n",
       "      <th>...</th>\n",
       "      <td>...</td>\n",
       "      <td>...</td>\n",
       "      <td>...</td>\n",
       "      <td>...</td>\n",
       "      <td>...</td>\n",
       "      <td>...</td>\n",
       "      <td>...</td>\n",
       "      <td>...</td>\n",
       "      <td>...</td>\n",
       "      <td>...</td>\n",
       "      <td>...</td>\n",
       "    </tr>\n",
       "    <tr>\n",
       "      <th>95</th>\n",
       "      <td>Golf course superintendents’ knowledge of vari...</td>\n",
       "      <td>Golf course superintendent’s knowledge of vari...</td>\n",
       "      <td>[Straw, Chase M., Wardrop, William S., Horgan,...</td>\n",
       "      <td>[case studies, geographic information systems,...</td>\n",
       "      <td>Precision agriculture</td>\n",
       "      <td>2020</td>\n",
       "      <td>10</td>\n",
       "      <td>247</td>\n",
       "      <td>This case study used a qualitative GIS approac...</td>\n",
       "      <td>Golf course superintendent’s knowledge of vari...</td>\n",
       "      <td>Golf course superintendent’s knowledge of var...</td>\n",
       "    </tr>\n",
       "    <tr>\n",
       "      <th>96</th>\n",
       "      <td>Performance evaluation of automatic vis-à-vis ...</td>\n",
       "      <td>Laser land levelling has contributed immensely...</td>\n",
       "      <td>[Manpreet-Singh,, Sidhu, Harminder S., Yadvind...</td>\n",
       "      <td>[cost effectiveness, energy use and consumptio...</td>\n",
       "      <td>Precision agriculture</td>\n",
       "      <td>2020</td>\n",
       "      <td>13</td>\n",
       "      <td>267</td>\n",
       "      <td>The automatic survey method significantly redu...</td>\n",
       "      <td>Laser land levelling has contributed immensely...</td>\n",
       "      <td>A sensor-based automatic topographic survey i...</td>\n",
       "    </tr>\n",
       "    <tr>\n",
       "      <th>97</th>\n",
       "      <td>Agricultural cyber-physical system enabled for...</td>\n",
       "      <td>Recently, several works have been focused on d...</td>\n",
       "      <td>[Selmani, Abdelouahed, Oubehar, Hassan, Outano...</td>\n",
       "      <td>[case studies, greenhouses, irrigation managem...</td>\n",
       "      <td>Biosystems engineering</td>\n",
       "      <td>2019</td>\n",
       "      <td>9</td>\n",
       "      <td>195</td>\n",
       "      <td>Therefore, a variety of ACPSs has been develop...</td>\n",
       "      <td>Recently, several works have been focused on d...</td>\n",
       "      <td>The distributed architecture is based on the ...</td>\n",
       "    </tr>\n",
       "    <tr>\n",
       "      <th>98</th>\n",
       "      <td>Precision conservation meets precision agricul...</td>\n",
       "      <td>Meeting future food demands for 9 billion peop...</td>\n",
       "      <td>[Capmourteres, Virginia, Adams, Justin, Berg, ...</td>\n",
       "      <td>[agricultural land, biodiversity, case studies...</td>\n",
       "      <td>Agricultural systems</td>\n",
       "      <td>2018</td>\n",
       "      <td>8</td>\n",
       "      <td>240</td>\n",
       "      <td>We argue that profit mapping can serve as a ma...</td>\n",
       "      <td>Meeting future food demands for 9 billion peop...</td>\n",
       "      <td>Meeting future food demands for 9 billion peo...</td>\n",
       "    </tr>\n",
       "    <tr>\n",
       "      <th>99</th>\n",
       "      <td>Long-term impact of a precision agriculture sy...</td>\n",
       "      <td>Research is lacking on the long-term impacts o...</td>\n",
       "      <td>[Yost, M. A., Kitchen, N. R., Sudduth, K. A., ...</td>\n",
       "      <td>[Glycine max, Triticum aestivum, Zea mays, can...</td>\n",
       "      <td>Precision agriculture</td>\n",
       "      <td>2017</td>\n",
       "      <td>10</td>\n",
       "      <td>258</td>\n",
       "      <td>Therefore, the greatest production advantage o...</td>\n",
       "      <td>Research is lacking on the long-term impacts o...</td>\n",
       "      <td>A ‘precision agriculture system’ (PAS) was im...</td>\n",
       "    </tr>\n",
       "  </tbody>\n",
       "</table>\n",
       "<p>100 rows × 11 columns</p>\n",
       "</div>"
      ],
      "text/plain": [
       "                                               titles  ...                                           abs_bart\n",
       "0   Examining the social and biophysical determina...  ...   Precision agricultural technologies (PA) such...\n",
       "1   Wireless Sensor Network Synchronization for Pr...  ...   Wireless Sensor Networks (WSNs) allow real ti...\n",
       "2   Smartphone Applications Targeting Precision Ag...  ...   In the last decade, with the help of the emer...\n",
       "3   Controlled release micronutrient fertilizers f...  ...   The rapid growth of the global population and...\n",
       "4   Farm adoption of embodied knowledge and inform...  ...   Based on a sample of 545 farm observations co...\n",
       "..                                                ...  ...                                                ...\n",
       "95  Golf course superintendents’ knowledge of vari...  ...   Golf course superintendent’s knowledge of var...\n",
       "96  Performance evaluation of automatic vis-à-vis ...  ...   A sensor-based automatic topographic survey i...\n",
       "97  Agricultural cyber-physical system enabled for...  ...   The distributed architecture is based on the ...\n",
       "98  Precision conservation meets precision agricul...  ...   Meeting future food demands for 9 billion peo...\n",
       "99  Long-term impact of a precision agriculture sy...  ...   A ‘precision agriculture system’ (PAS) was im...\n",
       "\n",
       "[100 rows x 11 columns]"
      ]
     },
     "execution_count": 57,
     "metadata": {
      "tags": []
     },
     "output_type": "execute_result"
    }
   ],
   "source": [
    "df"
   ]
  },
  {
   "cell_type": "markdown",
   "metadata": {
    "id": "3wp5Lnj4vp8x"
   },
   "source": [
    "## Export dataframe"
   ]
  },
  {
   "cell_type": "code",
   "execution_count": null,
   "metadata": {
    "colab": {
     "base_uri": "https://localhost:8080/",
     "height": 1000
    },
    "executionInfo": {
     "elapsed": 1968,
     "status": "ok",
     "timestamp": 1621194330054,
     "user": {
      "displayName": "Appanna M P",
      "photoUrl": "",
      "userId": "15798677300444359000"
     },
     "user_tz": -120
    },
    "id": "Ytilwz_Qvs9R",
    "outputId": "d6e6ca6d-86be-4fe3-bdb0-ad47ae0bc610"
   },
   "outputs": [
    {
     "data": {
      "text/html": [
       "<div>\n",
       "<style scoped>\n",
       "    .dataframe tbody tr th:only-of-type {\n",
       "        vertical-align: middle;\n",
       "    }\n",
       "\n",
       "    .dataframe tbody tr th {\n",
       "        vertical-align: top;\n",
       "    }\n",
       "\n",
       "    .dataframe thead th {\n",
       "        text-align: right;\n",
       "    }\n",
       "</style>\n",
       "<table border=\"1\" class=\"dataframe\">\n",
       "  <thead>\n",
       "    <tr style=\"text-align: right;\">\n",
       "      <th></th>\n",
       "      <th>titles</th>\n",
       "      <th>abstracts</th>\n",
       "      <th>authors</th>\n",
       "      <th>keywords</th>\n",
       "      <th>sources</th>\n",
       "      <th>dates</th>\n",
       "      <th>num_sents</th>\n",
       "      <th>num_words</th>\n",
       "      <th>ext_textrank</th>\n",
       "      <th>ext_bertsum</th>\n",
       "      <th>abs_bart</th>\n",
       "    </tr>\n",
       "  </thead>\n",
       "  <tbody>\n",
       "    <tr>\n",
       "      <th>0</th>\n",
       "      <td>Examining the social and biophysical determina...</td>\n",
       "      <td>Precision agricultural technologies (PA) such ...</td>\n",
       "      <td>[Gardezi, Maaz, Bronson, Kelly]</td>\n",
       "      <td>[corn, farmers, financial economics, food prod...</td>\n",
       "      <td>Precision agriculture</td>\n",
       "      <td>2020</td>\n",
       "      <td>6</td>\n",
       "      <td>198</td>\n",
       "      <td>The specific objective of this study is to exa...</td>\n",
       "      <td>Precision agricultural technologies (PA) such ...</td>\n",
       "      <td>Precision agricultural technologies (PA) such...</td>\n",
       "    </tr>\n",
       "    <tr>\n",
       "      <th>1</th>\n",
       "      <td>Wireless Sensor Network Synchronization for Pr...</td>\n",
       "      <td>The advent of Internet of Things has propelled...</td>\n",
       "      <td>[Zervopoulos, Alexandros, Tsipis, Athanasios, ...</td>\n",
       "      <td>[Olea europaea, decision making, environmental...</td>\n",
       "      <td>Agriculture (Basel)</td>\n",
       "      <td>2020</td>\n",
       "      <td>9</td>\n",
       "      <td>197</td>\n",
       "      <td>For example, a need for network synchronizatio...</td>\n",
       "      <td>The advent of Internet of Things has propelled...</td>\n",
       "      <td>Wireless Sensor Networks (WSNs) allow real ti...</td>\n",
       "    </tr>\n",
       "    <tr>\n",
       "      <th>2</th>\n",
       "      <td>Smartphone Applications Targeting Precision Ag...</td>\n",
       "      <td>Traditionally farmers have used their perceptu...</td>\n",
       "      <td>[Mendes, Jorge, Pinho, Tatiana  M., Neves dos ...</td>\n",
       "      <td>[cost effectiveness, crops, farmers, humans, m...</td>\n",
       "      <td>Agronomy</td>\n",
       "      <td>2020</td>\n",
       "      <td>9</td>\n",
       "      <td>216</td>\n",
       "      <td>Also, this paper is an important resource to h...</td>\n",
       "      <td>Traditionally farmers have used their perceptu...</td>\n",
       "      <td>In the last decade, with the help of the emer...</td>\n",
       "    </tr>\n",
       "    <tr>\n",
       "      <th>3</th>\n",
       "      <td>Controlled release micronutrient fertilizers f...</td>\n",
       "      <td>The rapid growth of the global population and ...</td>\n",
       "      <td>[Mikula, Katarzyna, Izydorczyk, Grzegorz, Skrz...</td>\n",
       "      <td>[coatings, farmers, food safety, groundwater, ...</td>\n",
       "      <td>The Science of the total environment</td>\n",
       "      <td>2020</td>\n",
       "      <td>8</td>\n",
       "      <td>159</td>\n",
       "      <td>The paper presents new fertilization technolog...</td>\n",
       "      <td>The rapid growth of the global population and ...</td>\n",
       "      <td>The rapid growth of the global population and...</td>\n",
       "    </tr>\n",
       "    <tr>\n",
       "      <th>4</th>\n",
       "      <td>Farm adoption of embodied knowledge and inform...</td>\n",
       "      <td>On-farm adoption of individual and groups of p...</td>\n",
       "      <td>[Miller, N. J., Griffin, T. W., Ciampitti, I. ...</td>\n",
       "      <td>[farms, precision agriculture, probability, Ka...</td>\n",
       "      <td>Precision agriculture</td>\n",
       "      <td>2019</td>\n",
       "      <td>6</td>\n",
       "      <td>152</td>\n",
       "      <td>Each analysis was estimated for two separate t...</td>\n",
       "      <td>On-farm adoption of individual and groups of p...</td>\n",
       "      <td>Based on a sample of 545 farm observations co...</td>\n",
       "    </tr>\n",
       "    <tr>\n",
       "      <th>...</th>\n",
       "      <td>...</td>\n",
       "      <td>...</td>\n",
       "      <td>...</td>\n",
       "      <td>...</td>\n",
       "      <td>...</td>\n",
       "      <td>...</td>\n",
       "      <td>...</td>\n",
       "      <td>...</td>\n",
       "      <td>...</td>\n",
       "      <td>...</td>\n",
       "      <td>...</td>\n",
       "    </tr>\n",
       "    <tr>\n",
       "      <th>95</th>\n",
       "      <td>Golf course superintendents’ knowledge of vari...</td>\n",
       "      <td>Golf course superintendent’s knowledge of vari...</td>\n",
       "      <td>[Straw, Chase M., Wardrop, William S., Horgan,...</td>\n",
       "      <td>[case studies, geographic information systems,...</td>\n",
       "      <td>Precision agriculture</td>\n",
       "      <td>2020</td>\n",
       "      <td>10</td>\n",
       "      <td>247</td>\n",
       "      <td>This case study used a qualitative GIS approac...</td>\n",
       "      <td>Golf course superintendent’s knowledge of vari...</td>\n",
       "      <td>Golf course superintendent’s knowledge of var...</td>\n",
       "    </tr>\n",
       "    <tr>\n",
       "      <th>96</th>\n",
       "      <td>Performance evaluation of automatic vis-à-vis ...</td>\n",
       "      <td>Laser land levelling has contributed immensely...</td>\n",
       "      <td>[Manpreet-Singh,, Sidhu, Harminder S., Yadvind...</td>\n",
       "      <td>[cost effectiveness, energy use and consumptio...</td>\n",
       "      <td>Precision agriculture</td>\n",
       "      <td>2020</td>\n",
       "      <td>13</td>\n",
       "      <td>267</td>\n",
       "      <td>The automatic survey method significantly redu...</td>\n",
       "      <td>Laser land levelling has contributed immensely...</td>\n",
       "      <td>A sensor-based automatic topographic survey i...</td>\n",
       "    </tr>\n",
       "    <tr>\n",
       "      <th>97</th>\n",
       "      <td>Agricultural cyber-physical system enabled for...</td>\n",
       "      <td>Recently, several works have been focused on d...</td>\n",
       "      <td>[Selmani, Abdelouahed, Oubehar, Hassan, Outano...</td>\n",
       "      <td>[case studies, greenhouses, irrigation managem...</td>\n",
       "      <td>Biosystems engineering</td>\n",
       "      <td>2019</td>\n",
       "      <td>9</td>\n",
       "      <td>195</td>\n",
       "      <td>Therefore, a variety of ACPSs has been develop...</td>\n",
       "      <td>Recently, several works have been focused on d...</td>\n",
       "      <td>The distributed architecture is based on the ...</td>\n",
       "    </tr>\n",
       "    <tr>\n",
       "      <th>98</th>\n",
       "      <td>Precision conservation meets precision agricul...</td>\n",
       "      <td>Meeting future food demands for 9 billion peop...</td>\n",
       "      <td>[Capmourteres, Virginia, Adams, Justin, Berg, ...</td>\n",
       "      <td>[agricultural land, biodiversity, case studies...</td>\n",
       "      <td>Agricultural systems</td>\n",
       "      <td>2018</td>\n",
       "      <td>8</td>\n",
       "      <td>240</td>\n",
       "      <td>We argue that profit mapping can serve as a ma...</td>\n",
       "      <td>Meeting future food demands for 9 billion peop...</td>\n",
       "      <td>Meeting future food demands for 9 billion peo...</td>\n",
       "    </tr>\n",
       "    <tr>\n",
       "      <th>99</th>\n",
       "      <td>Long-term impact of a precision agriculture sy...</td>\n",
       "      <td>Research is lacking on the long-term impacts o...</td>\n",
       "      <td>[Yost, M. A., Kitchen, N. R., Sudduth, K. A., ...</td>\n",
       "      <td>[Glycine max, Triticum aestivum, Zea mays, can...</td>\n",
       "      <td>Precision agriculture</td>\n",
       "      <td>2017</td>\n",
       "      <td>10</td>\n",
       "      <td>258</td>\n",
       "      <td>Therefore, the greatest production advantage o...</td>\n",
       "      <td>Research is lacking on the long-term impacts o...</td>\n",
       "      <td>A ‘precision agriculture system’ (PAS) was im...</td>\n",
       "    </tr>\n",
       "  </tbody>\n",
       "</table>\n",
       "<p>100 rows × 11 columns</p>\n",
       "</div>"
      ],
      "text/plain": [
       "                                               titles  ...                                           abs_bart\n",
       "0   Examining the social and biophysical determina...  ...   Precision agricultural technologies (PA) such...\n",
       "1   Wireless Sensor Network Synchronization for Pr...  ...   Wireless Sensor Networks (WSNs) allow real ti...\n",
       "2   Smartphone Applications Targeting Precision Ag...  ...   In the last decade, with the help of the emer...\n",
       "3   Controlled release micronutrient fertilizers f...  ...   The rapid growth of the global population and...\n",
       "4   Farm adoption of embodied knowledge and inform...  ...   Based on a sample of 545 farm observations co...\n",
       "..                                                ...  ...                                                ...\n",
       "95  Golf course superintendents’ knowledge of vari...  ...   Golf course superintendent’s knowledge of var...\n",
       "96  Performance evaluation of automatic vis-à-vis ...  ...   A sensor-based automatic topographic survey i...\n",
       "97  Agricultural cyber-physical system enabled for...  ...   The distributed architecture is based on the ...\n",
       "98  Precision conservation meets precision agricul...  ...   Meeting future food demands for 9 billion peo...\n",
       "99  Long-term impact of a precision agriculture sy...  ...   A ‘precision agriculture system’ (PAS) was im...\n",
       "\n",
       "[100 rows x 11 columns]"
      ]
     },
     "execution_count": 58,
     "metadata": {
      "tags": []
     },
     "output_type": "execute_result"
    }
   ],
   "source": [
    "df.to_excel('Summ_Output_100.xlsx')\n",
    "df"
   ]
  }
 ],
 "metadata": {
  "accelerator": "GPU",
  "colab": {
   "authorship_tag": "ABX9TyNtVKbV0BK0449XsZuMouBw",
   "collapsed_sections": [
    "XCa_TJhSvkeO",
    "GegH0dnctnJY",
    "cEM7gPIBRl_f",
    "NTRgbk6wi84K",
    "djTJ5NsjpXCN",
    "LT_7IYUBKTxR",
    "fM0IqmvkS6Hc",
    "3wp5Lnj4vp8x"
   ],
   "name": "NLP_assignment_Final.ipynb",
   "provenance": [
    {
     "file_id": "1IuZ0j015Botjupz8zS1QQm874tODjoKV",
     "timestamp": 1621194434715
    }
   ],
   "toc_visible": true
  },
  "kernelspec": {
   "display_name": "Python 3",
   "language": "python",
   "name": "python3"
  },
  "language_info": {
   "codemirror_mode": {
    "name": "ipython",
    "version": 3
   },
   "file_extension": ".py",
   "mimetype": "text/x-python",
   "name": "python",
   "nbconvert_exporter": "python",
   "pygments_lexer": "ipython3",
   "version": "3.8.5"
  }
 },
 "nbformat": 4,
 "nbformat_minor": 4
}
